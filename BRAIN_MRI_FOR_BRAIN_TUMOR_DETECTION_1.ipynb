{
  "nbformat": 4,
  "nbformat_minor": 0,
  "metadata": {
    "colab": {
      "provenance": [],
      "include_colab_link": true
    },
    "kernelspec": {
      "name": "python3",
      "display_name": "Python 3"
    },
    "language_info": {
      "name": "python"
    },
    "widgets": {
      "application/vnd.jupyter.widget-state+json": {
        "b86f2b8705b84e3fa01ff0ba5fff44a7": {
          "model_module": "@jupyter-widgets/controls",
          "model_name": "HBoxModel",
          "model_module_version": "1.5.0",
          "state": {
            "_dom_classes": [],
            "_model_module": "@jupyter-widgets/controls",
            "_model_module_version": "1.5.0",
            "_model_name": "HBoxModel",
            "_view_count": null,
            "_view_module": "@jupyter-widgets/controls",
            "_view_module_version": "1.5.0",
            "_view_name": "HBoxView",
            "box_style": "",
            "children": [
              "IPY_MODEL_f500485ec71a414287061b3d7750e1af",
              "IPY_MODEL_36c3ad87f35643eeae4ce50533b73cab",
              "IPY_MODEL_c646cc9602ad4ba0a45016915de483f6"
            ],
            "layout": "IPY_MODEL_87ef48e5b41344dcb857cf9ed72edf6d"
          }
        },
        "f500485ec71a414287061b3d7750e1af": {
          "model_module": "@jupyter-widgets/controls",
          "model_name": "HTMLModel",
          "model_module_version": "1.5.0",
          "state": {
            "_dom_classes": [],
            "_model_module": "@jupyter-widgets/controls",
            "_model_module_version": "1.5.0",
            "_model_name": "HTMLModel",
            "_view_count": null,
            "_view_module": "@jupyter-widgets/controls",
            "_view_module_version": "1.5.0",
            "_view_name": "HTMLView",
            "description": "",
            "description_tooltip": null,
            "layout": "IPY_MODEL_eb71aa17e4be457d95a1d2c274d09ef2",
            "placeholder": "​",
            "style": "IPY_MODEL_11600df07ede40ca8fdb2479f8a72635",
            "value": "100%"
          }
        },
        "36c3ad87f35643eeae4ce50533b73cab": {
          "model_module": "@jupyter-widgets/controls",
          "model_name": "FloatProgressModel",
          "model_module_version": "1.5.0",
          "state": {
            "_dom_classes": [],
            "_model_module": "@jupyter-widgets/controls",
            "_model_module_version": "1.5.0",
            "_model_name": "FloatProgressModel",
            "_view_count": null,
            "_view_module": "@jupyter-widgets/controls",
            "_view_module_version": "1.5.0",
            "_view_name": "ProgressView",
            "bar_style": "success",
            "description": "",
            "description_tooltip": null,
            "layout": "IPY_MODEL_126b5fe55d66455c94486ebc5a259296",
            "max": 155,
            "min": 0,
            "orientation": "horizontal",
            "style": "IPY_MODEL_3bd233cc6c4b49df9e1eab0b0e74c6f5",
            "value": 155
          }
        },
        "c646cc9602ad4ba0a45016915de483f6": {
          "model_module": "@jupyter-widgets/controls",
          "model_name": "HTMLModel",
          "model_module_version": "1.5.0",
          "state": {
            "_dom_classes": [],
            "_model_module": "@jupyter-widgets/controls",
            "_model_module_version": "1.5.0",
            "_model_name": "HTMLModel",
            "_view_count": null,
            "_view_module": "@jupyter-widgets/controls",
            "_view_module_version": "1.5.0",
            "_view_name": "HTMLView",
            "description": "",
            "description_tooltip": null,
            "layout": "IPY_MODEL_57291714b0974c909435bf0e38bd291b",
            "placeholder": "​",
            "style": "IPY_MODEL_0d5e60a90c3248cdafd95d899c708b91",
            "value": " 155/155 [00:00&lt;00:00, 285.72it/s]"
          }
        },
        "87ef48e5b41344dcb857cf9ed72edf6d": {
          "model_module": "@jupyter-widgets/base",
          "model_name": "LayoutModel",
          "model_module_version": "1.2.0",
          "state": {
            "_model_module": "@jupyter-widgets/base",
            "_model_module_version": "1.2.0",
            "_model_name": "LayoutModel",
            "_view_count": null,
            "_view_module": "@jupyter-widgets/base",
            "_view_module_version": "1.2.0",
            "_view_name": "LayoutView",
            "align_content": null,
            "align_items": null,
            "align_self": null,
            "border": null,
            "bottom": null,
            "display": null,
            "flex": null,
            "flex_flow": null,
            "grid_area": null,
            "grid_auto_columns": null,
            "grid_auto_flow": null,
            "grid_auto_rows": null,
            "grid_column": null,
            "grid_gap": null,
            "grid_row": null,
            "grid_template_areas": null,
            "grid_template_columns": null,
            "grid_template_rows": null,
            "height": null,
            "justify_content": null,
            "justify_items": null,
            "left": null,
            "margin": null,
            "max_height": null,
            "max_width": null,
            "min_height": null,
            "min_width": null,
            "object_fit": null,
            "object_position": null,
            "order": null,
            "overflow": null,
            "overflow_x": null,
            "overflow_y": null,
            "padding": null,
            "right": null,
            "top": null,
            "visibility": null,
            "width": null
          }
        },
        "eb71aa17e4be457d95a1d2c274d09ef2": {
          "model_module": "@jupyter-widgets/base",
          "model_name": "LayoutModel",
          "model_module_version": "1.2.0",
          "state": {
            "_model_module": "@jupyter-widgets/base",
            "_model_module_version": "1.2.0",
            "_model_name": "LayoutModel",
            "_view_count": null,
            "_view_module": "@jupyter-widgets/base",
            "_view_module_version": "1.2.0",
            "_view_name": "LayoutView",
            "align_content": null,
            "align_items": null,
            "align_self": null,
            "border": null,
            "bottom": null,
            "display": null,
            "flex": null,
            "flex_flow": null,
            "grid_area": null,
            "grid_auto_columns": null,
            "grid_auto_flow": null,
            "grid_auto_rows": null,
            "grid_column": null,
            "grid_gap": null,
            "grid_row": null,
            "grid_template_areas": null,
            "grid_template_columns": null,
            "grid_template_rows": null,
            "height": null,
            "justify_content": null,
            "justify_items": null,
            "left": null,
            "margin": null,
            "max_height": null,
            "max_width": null,
            "min_height": null,
            "min_width": null,
            "object_fit": null,
            "object_position": null,
            "order": null,
            "overflow": null,
            "overflow_x": null,
            "overflow_y": null,
            "padding": null,
            "right": null,
            "top": null,
            "visibility": null,
            "width": null
          }
        },
        "11600df07ede40ca8fdb2479f8a72635": {
          "model_module": "@jupyter-widgets/controls",
          "model_name": "DescriptionStyleModel",
          "model_module_version": "1.5.0",
          "state": {
            "_model_module": "@jupyter-widgets/controls",
            "_model_module_version": "1.5.0",
            "_model_name": "DescriptionStyleModel",
            "_view_count": null,
            "_view_module": "@jupyter-widgets/base",
            "_view_module_version": "1.2.0",
            "_view_name": "StyleView",
            "description_width": ""
          }
        },
        "126b5fe55d66455c94486ebc5a259296": {
          "model_module": "@jupyter-widgets/base",
          "model_name": "LayoutModel",
          "model_module_version": "1.2.0",
          "state": {
            "_model_module": "@jupyter-widgets/base",
            "_model_module_version": "1.2.0",
            "_model_name": "LayoutModel",
            "_view_count": null,
            "_view_module": "@jupyter-widgets/base",
            "_view_module_version": "1.2.0",
            "_view_name": "LayoutView",
            "align_content": null,
            "align_items": null,
            "align_self": null,
            "border": null,
            "bottom": null,
            "display": null,
            "flex": null,
            "flex_flow": null,
            "grid_area": null,
            "grid_auto_columns": null,
            "grid_auto_flow": null,
            "grid_auto_rows": null,
            "grid_column": null,
            "grid_gap": null,
            "grid_row": null,
            "grid_template_areas": null,
            "grid_template_columns": null,
            "grid_template_rows": null,
            "height": null,
            "justify_content": null,
            "justify_items": null,
            "left": null,
            "margin": null,
            "max_height": null,
            "max_width": null,
            "min_height": null,
            "min_width": null,
            "object_fit": null,
            "object_position": null,
            "order": null,
            "overflow": null,
            "overflow_x": null,
            "overflow_y": null,
            "padding": null,
            "right": null,
            "top": null,
            "visibility": null,
            "width": null
          }
        },
        "3bd233cc6c4b49df9e1eab0b0e74c6f5": {
          "model_module": "@jupyter-widgets/controls",
          "model_name": "ProgressStyleModel",
          "model_module_version": "1.5.0",
          "state": {
            "_model_module": "@jupyter-widgets/controls",
            "_model_module_version": "1.5.0",
            "_model_name": "ProgressStyleModel",
            "_view_count": null,
            "_view_module": "@jupyter-widgets/base",
            "_view_module_version": "1.2.0",
            "_view_name": "StyleView",
            "bar_color": null,
            "description_width": ""
          }
        },
        "57291714b0974c909435bf0e38bd291b": {
          "model_module": "@jupyter-widgets/base",
          "model_name": "LayoutModel",
          "model_module_version": "1.2.0",
          "state": {
            "_model_module": "@jupyter-widgets/base",
            "_model_module_version": "1.2.0",
            "_model_name": "LayoutModel",
            "_view_count": null,
            "_view_module": "@jupyter-widgets/base",
            "_view_module_version": "1.2.0",
            "_view_name": "LayoutView",
            "align_content": null,
            "align_items": null,
            "align_self": null,
            "border": null,
            "bottom": null,
            "display": null,
            "flex": null,
            "flex_flow": null,
            "grid_area": null,
            "grid_auto_columns": null,
            "grid_auto_flow": null,
            "grid_auto_rows": null,
            "grid_column": null,
            "grid_gap": null,
            "grid_row": null,
            "grid_template_areas": null,
            "grid_template_columns": null,
            "grid_template_rows": null,
            "height": null,
            "justify_content": null,
            "justify_items": null,
            "left": null,
            "margin": null,
            "max_height": null,
            "max_width": null,
            "min_height": null,
            "min_width": null,
            "object_fit": null,
            "object_position": null,
            "order": null,
            "overflow": null,
            "overflow_x": null,
            "overflow_y": null,
            "padding": null,
            "right": null,
            "top": null,
            "visibility": null,
            "width": null
          }
        },
        "0d5e60a90c3248cdafd95d899c708b91": {
          "model_module": "@jupyter-widgets/controls",
          "model_name": "DescriptionStyleModel",
          "model_module_version": "1.5.0",
          "state": {
            "_model_module": "@jupyter-widgets/controls",
            "_model_module_version": "1.5.0",
            "_model_name": "DescriptionStyleModel",
            "_view_count": null,
            "_view_module": "@jupyter-widgets/base",
            "_view_module_version": "1.2.0",
            "_view_name": "StyleView",
            "description_width": ""
          }
        },
        "90bfbfc99bd7406abb6cf66b9d573b11": {
          "model_module": "@jupyter-widgets/controls",
          "model_name": "HBoxModel",
          "model_module_version": "1.5.0",
          "state": {
            "_dom_classes": [],
            "_model_module": "@jupyter-widgets/controls",
            "_model_module_version": "1.5.0",
            "_model_name": "HBoxModel",
            "_view_count": null,
            "_view_module": "@jupyter-widgets/controls",
            "_view_module_version": "1.5.0",
            "_view_name": "HBoxView",
            "box_style": "",
            "children": [
              "IPY_MODEL_b58c9341b6f34a91ba0b44be3cb6d3f0",
              "IPY_MODEL_617f58e51fc84544b593f8e2fb29fe94",
              "IPY_MODEL_655766ed221240c1b2af5041fb27a6ab"
            ],
            "layout": "IPY_MODEL_310663d70c07478fb86d6849d159b318"
          }
        },
        "b58c9341b6f34a91ba0b44be3cb6d3f0": {
          "model_module": "@jupyter-widgets/controls",
          "model_name": "HTMLModel",
          "model_module_version": "1.5.0",
          "state": {
            "_dom_classes": [],
            "_model_module": "@jupyter-widgets/controls",
            "_model_module_version": "1.5.0",
            "_model_name": "HTMLModel",
            "_view_count": null,
            "_view_module": "@jupyter-widgets/controls",
            "_view_module_version": "1.5.0",
            "_view_name": "HTMLView",
            "description": "",
            "description_tooltip": null,
            "layout": "IPY_MODEL_6fc728fe86f54c04ab05a5f10cddcdfe",
            "placeholder": "​",
            "style": "IPY_MODEL_3792cf198c934ef9b6bedd506550de32",
            "value": "100%"
          }
        },
        "617f58e51fc84544b593f8e2fb29fe94": {
          "model_module": "@jupyter-widgets/controls",
          "model_name": "FloatProgressModel",
          "model_module_version": "1.5.0",
          "state": {
            "_dom_classes": [],
            "_model_module": "@jupyter-widgets/controls",
            "_model_module_version": "1.5.0",
            "_model_name": "FloatProgressModel",
            "_view_count": null,
            "_view_module": "@jupyter-widgets/controls",
            "_view_module_version": "1.5.0",
            "_view_name": "ProgressView",
            "bar_style": "success",
            "description": "",
            "description_tooltip": null,
            "layout": "IPY_MODEL_f0cf31fe265548a4a5227958afe7dc32",
            "max": 98,
            "min": 0,
            "orientation": "horizontal",
            "style": "IPY_MODEL_585c4cf770b6403a8f2bb1dc724a7b6a",
            "value": 98
          }
        },
        "655766ed221240c1b2af5041fb27a6ab": {
          "model_module": "@jupyter-widgets/controls",
          "model_name": "HTMLModel",
          "model_module_version": "1.5.0",
          "state": {
            "_dom_classes": [],
            "_model_module": "@jupyter-widgets/controls",
            "_model_module_version": "1.5.0",
            "_model_name": "HTMLModel",
            "_view_count": null,
            "_view_module": "@jupyter-widgets/controls",
            "_view_module_version": "1.5.0",
            "_view_name": "HTMLView",
            "description": "",
            "description_tooltip": null,
            "layout": "IPY_MODEL_a5b5648689bf4293bb80e868c5b96119",
            "placeholder": "​",
            "style": "IPY_MODEL_499be9985d4e4c1e9e3e71666f8aae1a",
            "value": " 98/98 [00:00&lt;00:00, 244.16it/s]"
          }
        },
        "310663d70c07478fb86d6849d159b318": {
          "model_module": "@jupyter-widgets/base",
          "model_name": "LayoutModel",
          "model_module_version": "1.2.0",
          "state": {
            "_model_module": "@jupyter-widgets/base",
            "_model_module_version": "1.2.0",
            "_model_name": "LayoutModel",
            "_view_count": null,
            "_view_module": "@jupyter-widgets/base",
            "_view_module_version": "1.2.0",
            "_view_name": "LayoutView",
            "align_content": null,
            "align_items": null,
            "align_self": null,
            "border": null,
            "bottom": null,
            "display": null,
            "flex": null,
            "flex_flow": null,
            "grid_area": null,
            "grid_auto_columns": null,
            "grid_auto_flow": null,
            "grid_auto_rows": null,
            "grid_column": null,
            "grid_gap": null,
            "grid_row": null,
            "grid_template_areas": null,
            "grid_template_columns": null,
            "grid_template_rows": null,
            "height": null,
            "justify_content": null,
            "justify_items": null,
            "left": null,
            "margin": null,
            "max_height": null,
            "max_width": null,
            "min_height": null,
            "min_width": null,
            "object_fit": null,
            "object_position": null,
            "order": null,
            "overflow": null,
            "overflow_x": null,
            "overflow_y": null,
            "padding": null,
            "right": null,
            "top": null,
            "visibility": null,
            "width": null
          }
        },
        "6fc728fe86f54c04ab05a5f10cddcdfe": {
          "model_module": "@jupyter-widgets/base",
          "model_name": "LayoutModel",
          "model_module_version": "1.2.0",
          "state": {
            "_model_module": "@jupyter-widgets/base",
            "_model_module_version": "1.2.0",
            "_model_name": "LayoutModel",
            "_view_count": null,
            "_view_module": "@jupyter-widgets/base",
            "_view_module_version": "1.2.0",
            "_view_name": "LayoutView",
            "align_content": null,
            "align_items": null,
            "align_self": null,
            "border": null,
            "bottom": null,
            "display": null,
            "flex": null,
            "flex_flow": null,
            "grid_area": null,
            "grid_auto_columns": null,
            "grid_auto_flow": null,
            "grid_auto_rows": null,
            "grid_column": null,
            "grid_gap": null,
            "grid_row": null,
            "grid_template_areas": null,
            "grid_template_columns": null,
            "grid_template_rows": null,
            "height": null,
            "justify_content": null,
            "justify_items": null,
            "left": null,
            "margin": null,
            "max_height": null,
            "max_width": null,
            "min_height": null,
            "min_width": null,
            "object_fit": null,
            "object_position": null,
            "order": null,
            "overflow": null,
            "overflow_x": null,
            "overflow_y": null,
            "padding": null,
            "right": null,
            "top": null,
            "visibility": null,
            "width": null
          }
        },
        "3792cf198c934ef9b6bedd506550de32": {
          "model_module": "@jupyter-widgets/controls",
          "model_name": "DescriptionStyleModel",
          "model_module_version": "1.5.0",
          "state": {
            "_model_module": "@jupyter-widgets/controls",
            "_model_module_version": "1.5.0",
            "_model_name": "DescriptionStyleModel",
            "_view_count": null,
            "_view_module": "@jupyter-widgets/base",
            "_view_module_version": "1.2.0",
            "_view_name": "StyleView",
            "description_width": ""
          }
        },
        "f0cf31fe265548a4a5227958afe7dc32": {
          "model_module": "@jupyter-widgets/base",
          "model_name": "LayoutModel",
          "model_module_version": "1.2.0",
          "state": {
            "_model_module": "@jupyter-widgets/base",
            "_model_module_version": "1.2.0",
            "_model_name": "LayoutModel",
            "_view_count": null,
            "_view_module": "@jupyter-widgets/base",
            "_view_module_version": "1.2.0",
            "_view_name": "LayoutView",
            "align_content": null,
            "align_items": null,
            "align_self": null,
            "border": null,
            "bottom": null,
            "display": null,
            "flex": null,
            "flex_flow": null,
            "grid_area": null,
            "grid_auto_columns": null,
            "grid_auto_flow": null,
            "grid_auto_rows": null,
            "grid_column": null,
            "grid_gap": null,
            "grid_row": null,
            "grid_template_areas": null,
            "grid_template_columns": null,
            "grid_template_rows": null,
            "height": null,
            "justify_content": null,
            "justify_items": null,
            "left": null,
            "margin": null,
            "max_height": null,
            "max_width": null,
            "min_height": null,
            "min_width": null,
            "object_fit": null,
            "object_position": null,
            "order": null,
            "overflow": null,
            "overflow_x": null,
            "overflow_y": null,
            "padding": null,
            "right": null,
            "top": null,
            "visibility": null,
            "width": null
          }
        },
        "585c4cf770b6403a8f2bb1dc724a7b6a": {
          "model_module": "@jupyter-widgets/controls",
          "model_name": "ProgressStyleModel",
          "model_module_version": "1.5.0",
          "state": {
            "_model_module": "@jupyter-widgets/controls",
            "_model_module_version": "1.5.0",
            "_model_name": "ProgressStyleModel",
            "_view_count": null,
            "_view_module": "@jupyter-widgets/base",
            "_view_module_version": "1.2.0",
            "_view_name": "StyleView",
            "bar_color": null,
            "description_width": ""
          }
        },
        "a5b5648689bf4293bb80e868c5b96119": {
          "model_module": "@jupyter-widgets/base",
          "model_name": "LayoutModel",
          "model_module_version": "1.2.0",
          "state": {
            "_model_module": "@jupyter-widgets/base",
            "_model_module_version": "1.2.0",
            "_model_name": "LayoutModel",
            "_view_count": null,
            "_view_module": "@jupyter-widgets/base",
            "_view_module_version": "1.2.0",
            "_view_name": "LayoutView",
            "align_content": null,
            "align_items": null,
            "align_self": null,
            "border": null,
            "bottom": null,
            "display": null,
            "flex": null,
            "flex_flow": null,
            "grid_area": null,
            "grid_auto_columns": null,
            "grid_auto_flow": null,
            "grid_auto_rows": null,
            "grid_column": null,
            "grid_gap": null,
            "grid_row": null,
            "grid_template_areas": null,
            "grid_template_columns": null,
            "grid_template_rows": null,
            "height": null,
            "justify_content": null,
            "justify_items": null,
            "left": null,
            "margin": null,
            "max_height": null,
            "max_width": null,
            "min_height": null,
            "min_width": null,
            "object_fit": null,
            "object_position": null,
            "order": null,
            "overflow": null,
            "overflow_x": null,
            "overflow_y": null,
            "padding": null,
            "right": null,
            "top": null,
            "visibility": null,
            "width": null
          }
        },
        "499be9985d4e4c1e9e3e71666f8aae1a": {
          "model_module": "@jupyter-widgets/controls",
          "model_name": "DescriptionStyleModel",
          "model_module_version": "1.5.0",
          "state": {
            "_model_module": "@jupyter-widgets/controls",
            "_model_module_version": "1.5.0",
            "_model_name": "DescriptionStyleModel",
            "_view_count": null,
            "_view_module": "@jupyter-widgets/base",
            "_view_module_version": "1.2.0",
            "_view_name": "StyleView",
            "description_width": ""
          }
        }
      }
    }
  },
  "cells": [
    {
      "cell_type": "markdown",
      "metadata": {
        "id": "view-in-github",
        "colab_type": "text"
      },
      "source": [
        "<a href=\"https://colab.research.google.com/github/SanjanaTikare117/Deep-Learning-Brain-MRI-Tumor-Detection/blob/main/BRAIN_MRI_FOR_BRAIN_TUMOR_DETECTION_1.ipynb\" target=\"_parent\"><img src=\"https://colab.research.google.com/assets/colab-badge.svg\" alt=\"Open In Colab\"/></a>"
      ]
    },
    {
      "cell_type": "markdown",
      "source": [
        "**UPLOAD FILES**"
      ],
      "metadata": {
        "id": "AK91u_qv_SNM"
      }
    },
    {
      "cell_type": "code",
      "source": [
        "from google.colab import files\n",
        "\n",
        "uploaded = files.upload()\n",
        "for fn in uploaded.keys():\n",
        "  print('User uploaded file \"{name}\" with length {length} bytes'.format(\n",
        "      name=fn, length=len(uploaded[fn])))\n",
        "\n",
        "# Then move kaggle.json into the folder where the API expects to find it.\n",
        "!mkdir -p ~/.kaggle/ && mv kaggle.json ~/.kaggle/ && chmod 600 ~/.kaggle/kaggle.json"
      ],
      "metadata": {
        "colab": {
          "base_uri": "https://localhost:8080/",
          "height": 90
        },
        "id": "db1JocpZ_OW7",
        "outputId": "b8d09029-803b-48cf-cb84-4497510b9831"
      },
      "execution_count": null,
      "outputs": [
        {
          "output_type": "display_data",
          "data": {
            "text/plain": [
              "<IPython.core.display.HTML object>"
            ],
            "text/html": [
              "\n",
              "     <input type=\"file\" id=\"files-c08c1675-7b68-44a4-b02a-eff83f28ea6f\" name=\"files[]\" multiple disabled\n",
              "        style=\"border:none\" />\n",
              "     <output id=\"result-c08c1675-7b68-44a4-b02a-eff83f28ea6f\">\n",
              "      Upload widget is only available when the cell has been executed in the\n",
              "      current browser session. Please rerun this cell to enable.\n",
              "      </output>\n",
              "      <script>// Copyright 2017 Google LLC\n",
              "//\n",
              "// Licensed under the Apache License, Version 2.0 (the \"License\");\n",
              "// you may not use this file except in compliance with the License.\n",
              "// You may obtain a copy of the License at\n",
              "//\n",
              "//      http://www.apache.org/licenses/LICENSE-2.0\n",
              "//\n",
              "// Unless required by applicable law or agreed to in writing, software\n",
              "// distributed under the License is distributed on an \"AS IS\" BASIS,\n",
              "// WITHOUT WARRANTIES OR CONDITIONS OF ANY KIND, either express or implied.\n",
              "// See the License for the specific language governing permissions and\n",
              "// limitations under the License.\n",
              "\n",
              "/**\n",
              " * @fileoverview Helpers for google.colab Python module.\n",
              " */\n",
              "(function(scope) {\n",
              "function span(text, styleAttributes = {}) {\n",
              "  const element = document.createElement('span');\n",
              "  element.textContent = text;\n",
              "  for (const key of Object.keys(styleAttributes)) {\n",
              "    element.style[key] = styleAttributes[key];\n",
              "  }\n",
              "  return element;\n",
              "}\n",
              "\n",
              "// Max number of bytes which will be uploaded at a time.\n",
              "const MAX_PAYLOAD_SIZE = 100 * 1024;\n",
              "\n",
              "function _uploadFiles(inputId, outputId) {\n",
              "  const steps = uploadFilesStep(inputId, outputId);\n",
              "  const outputElement = document.getElementById(outputId);\n",
              "  // Cache steps on the outputElement to make it available for the next call\n",
              "  // to uploadFilesContinue from Python.\n",
              "  outputElement.steps = steps;\n",
              "\n",
              "  return _uploadFilesContinue(outputId);\n",
              "}\n",
              "\n",
              "// This is roughly an async generator (not supported in the browser yet),\n",
              "// where there are multiple asynchronous steps and the Python side is going\n",
              "// to poll for completion of each step.\n",
              "// This uses a Promise to block the python side on completion of each step,\n",
              "// then passes the result of the previous step as the input to the next step.\n",
              "function _uploadFilesContinue(outputId) {\n",
              "  const outputElement = document.getElementById(outputId);\n",
              "  const steps = outputElement.steps;\n",
              "\n",
              "  const next = steps.next(outputElement.lastPromiseValue);\n",
              "  return Promise.resolve(next.value.promise).then((value) => {\n",
              "    // Cache the last promise value to make it available to the next\n",
              "    // step of the generator.\n",
              "    outputElement.lastPromiseValue = value;\n",
              "    return next.value.response;\n",
              "  });\n",
              "}\n",
              "\n",
              "/**\n",
              " * Generator function which is called between each async step of the upload\n",
              " * process.\n",
              " * @param {string} inputId Element ID of the input file picker element.\n",
              " * @param {string} outputId Element ID of the output display.\n",
              " * @return {!Iterable<!Object>} Iterable of next steps.\n",
              " */\n",
              "function* uploadFilesStep(inputId, outputId) {\n",
              "  const inputElement = document.getElementById(inputId);\n",
              "  inputElement.disabled = false;\n",
              "\n",
              "  const outputElement = document.getElementById(outputId);\n",
              "  outputElement.innerHTML = '';\n",
              "\n",
              "  const pickedPromise = new Promise((resolve) => {\n",
              "    inputElement.addEventListener('change', (e) => {\n",
              "      resolve(e.target.files);\n",
              "    });\n",
              "  });\n",
              "\n",
              "  const cancel = document.createElement('button');\n",
              "  inputElement.parentElement.appendChild(cancel);\n",
              "  cancel.textContent = 'Cancel upload';\n",
              "  const cancelPromise = new Promise((resolve) => {\n",
              "    cancel.onclick = () => {\n",
              "      resolve(null);\n",
              "    };\n",
              "  });\n",
              "\n",
              "  // Wait for the user to pick the files.\n",
              "  const files = yield {\n",
              "    promise: Promise.race([pickedPromise, cancelPromise]),\n",
              "    response: {\n",
              "      action: 'starting',\n",
              "    }\n",
              "  };\n",
              "\n",
              "  cancel.remove();\n",
              "\n",
              "  // Disable the input element since further picks are not allowed.\n",
              "  inputElement.disabled = true;\n",
              "\n",
              "  if (!files) {\n",
              "    return {\n",
              "      response: {\n",
              "        action: 'complete',\n",
              "      }\n",
              "    };\n",
              "  }\n",
              "\n",
              "  for (const file of files) {\n",
              "    const li = document.createElement('li');\n",
              "    li.append(span(file.name, {fontWeight: 'bold'}));\n",
              "    li.append(span(\n",
              "        `(${file.type || 'n/a'}) - ${file.size} bytes, ` +\n",
              "        `last modified: ${\n",
              "            file.lastModifiedDate ? file.lastModifiedDate.toLocaleDateString() :\n",
              "                                    'n/a'} - `));\n",
              "    const percent = span('0% done');\n",
              "    li.appendChild(percent);\n",
              "\n",
              "    outputElement.appendChild(li);\n",
              "\n",
              "    const fileDataPromise = new Promise((resolve) => {\n",
              "      const reader = new FileReader();\n",
              "      reader.onload = (e) => {\n",
              "        resolve(e.target.result);\n",
              "      };\n",
              "      reader.readAsArrayBuffer(file);\n",
              "    });\n",
              "    // Wait for the data to be ready.\n",
              "    let fileData = yield {\n",
              "      promise: fileDataPromise,\n",
              "      response: {\n",
              "        action: 'continue',\n",
              "      }\n",
              "    };\n",
              "\n",
              "    // Use a chunked sending to avoid message size limits. See b/62115660.\n",
              "    let position = 0;\n",
              "    do {\n",
              "      const length = Math.min(fileData.byteLength - position, MAX_PAYLOAD_SIZE);\n",
              "      const chunk = new Uint8Array(fileData, position, length);\n",
              "      position += length;\n",
              "\n",
              "      const base64 = btoa(String.fromCharCode.apply(null, chunk));\n",
              "      yield {\n",
              "        response: {\n",
              "          action: 'append',\n",
              "          file: file.name,\n",
              "          data: base64,\n",
              "        },\n",
              "      };\n",
              "\n",
              "      let percentDone = fileData.byteLength === 0 ?\n",
              "          100 :\n",
              "          Math.round((position / fileData.byteLength) * 100);\n",
              "      percent.textContent = `${percentDone}% done`;\n",
              "\n",
              "    } while (position < fileData.byteLength);\n",
              "  }\n",
              "\n",
              "  // All done.\n",
              "  yield {\n",
              "    response: {\n",
              "      action: 'complete',\n",
              "    }\n",
              "  };\n",
              "}\n",
              "\n",
              "scope.google = scope.google || {};\n",
              "scope.google.colab = scope.google.colab || {};\n",
              "scope.google.colab._files = {\n",
              "  _uploadFiles,\n",
              "  _uploadFilesContinue,\n",
              "};\n",
              "})(self);\n",
              "</script> "
            ]
          },
          "metadata": {}
        },
        {
          "output_type": "stream",
          "name": "stdout",
          "text": [
            "Saving kaggle.json to kaggle.json\n",
            "User uploaded file \"kaggle.json\" with length 67 bytes\n"
          ]
        }
      ]
    },
    {
      "cell_type": "markdown",
      "source": [
        "**MOVE KAGGLE API KEY**"
      ],
      "metadata": {
        "id": "RrMtPYUZ_o0O"
      }
    },
    {
      "cell_type": "code",
      "source": [
        "!kaggle datasets download -d navoneel/brain-mri-images-for-brain-tumor-detection"
      ],
      "metadata": {
        "colab": {
          "base_uri": "https://localhost:8080/"
        },
        "id": "b4OdF7R0XbV_",
        "outputId": "8e106f37-5a94-4190-ca5a-8590d5f1fba0"
      },
      "execution_count": null,
      "outputs": [
        {
          "output_type": "stream",
          "name": "stdout",
          "text": [
            "Downloading brain-mri-images-for-brain-tumor-detection.zip to /content\n",
            "\r  0% 0.00/15.1M [00:00<?, ?B/s]\r 99% 15.0M/15.1M [00:00<00:00, 156MB/s]\n",
            "\r100% 15.1M/15.1M [00:00<00:00, 155MB/s]\n"
          ]
        }
      ]
    },
    {
      "cell_type": "markdown",
      "source": [
        "LOAD THE DATA"
      ],
      "metadata": {
        "id": "UpMdyeY6_1nS"
      }
    },
    {
      "cell_type": "code",
      "source": [
        "#Tensorflow and zip file imports\n",
        "import tensorflow as tf\n",
        "from zipfile import ZipFile\n",
        "#File handling and image processing libraries\n",
        "import os,glob\n",
        "import cv2\n",
        "from tqdm._tqdm_notebook import tqdm_notebook as tqdm\n",
        "#Data preprocessing and splitting libraries\n",
        "import numpy as np\n",
        "from sklearn import preprocessing\n",
        "from sklearn.model_selection import train_test_split\n",
        "#keras models\n",
        "from keras.models import Sequential\n",
        "from keras.layers import Convolution2D, Dropout, Dense,MaxPooling2D\n",
        "from keras.layers import BatchNormalization\n",
        "from keras.layers import MaxPooling2D\n",
        "from keras.layers import Flatten"
      ],
      "metadata": {
        "id": "ZdZ84YNyXcBu",
        "colab": {
          "base_uri": "https://localhost:8080/"
        },
        "outputId": "7b1ea3ac-2a65-4dce-9019-17dc639d5ff2"
      },
      "execution_count": null,
      "outputs": [
        {
          "output_type": "stream",
          "name": "stderr",
          "text": [
            "<ipython-input-3-a0106538900e>:7: TqdmDeprecationWarning: This function will be removed in tqdm==5.0.0\n",
            "Please use `tqdm.notebook.*` instead of `tqdm._tqdm_notebook.*`\n",
            "  from tqdm._tqdm_notebook import tqdm_notebook as tqdm\n"
          ]
        }
      ]
    },
    {
      "cell_type": "markdown",
      "source": [
        "**EXTRACT THE CONTENTS OF ZIP FILE**"
      ],
      "metadata": {
        "id": "CrsrVfzwAXmx"
      }
    },
    {
      "cell_type": "code",
      "source": [
        "from zipfile import ZipFile\n",
        "file_name = \"/content/brain-mri-images-for-brain-tumor-detection.zip\"\n",
        "with ZipFile(file_name,'r') as zip:\n",
        "  zip.extractall()\n",
        "  print('Done')"
      ],
      "metadata": {
        "colab": {
          "base_uri": "https://localhost:8080/"
        },
        "id": "HlW4s39qYv1V",
        "outputId": "17bad7e3-6520-4ad7-bf10-5b6a9828b97e"
      },
      "execution_count": null,
      "outputs": [
        {
          "output_type": "stream",
          "name": "stdout",
          "text": [
            "Done\n"
          ]
        }
      ]
    },
    {
      "cell_type": "markdown",
      "source": [
        "**DATA PREPROCESSING AND BINARY CLASSIFICATION**"
      ],
      "metadata": {
        "id": "yjDrI6dTAjFU"
      }
    },
    {
      "cell_type": "code",
      "source": [
        "os.chdir('/content/yes')# Binary Classification carried out\n",
        "X = []\n",
        "y = []\n",
        "for i in tqdm(os.listdir()):\n",
        "      img = cv2.imread(i)\n",
        "      img = cv2.resize(img,(224,224))\n",
        "      X.append(img)\n",
        "      y.append((i[0:1]))\n",
        "      print(i[0:1])\n",
        "os.chdir('/content/no')\n",
        "for i in tqdm(os.listdir()):\n",
        "      img = cv2.imread(i)\n",
        "      img = cv2.resize(img,(224,224))\n",
        "      X.append(img)\n",
        "for i in range(1,99):\n",
        "    y.append('N')\n",
        "print(y)"
      ],
      "metadata": {
        "colab": {
          "base_uri": "https://localhost:8080/",
          "height": 1000,
          "referenced_widgets": [
            "b86f2b8705b84e3fa01ff0ba5fff44a7",
            "f500485ec71a414287061b3d7750e1af",
            "36c3ad87f35643eeae4ce50533b73cab",
            "c646cc9602ad4ba0a45016915de483f6",
            "87ef48e5b41344dcb857cf9ed72edf6d",
            "eb71aa17e4be457d95a1d2c274d09ef2",
            "11600df07ede40ca8fdb2479f8a72635",
            "126b5fe55d66455c94486ebc5a259296",
            "3bd233cc6c4b49df9e1eab0b0e74c6f5",
            "57291714b0974c909435bf0e38bd291b",
            "0d5e60a90c3248cdafd95d899c708b91",
            "90bfbfc99bd7406abb6cf66b9d573b11",
            "b58c9341b6f34a91ba0b44be3cb6d3f0",
            "617f58e51fc84544b593f8e2fb29fe94",
            "655766ed221240c1b2af5041fb27a6ab",
            "310663d70c07478fb86d6849d159b318",
            "6fc728fe86f54c04ab05a5f10cddcdfe",
            "3792cf198c934ef9b6bedd506550de32",
            "f0cf31fe265548a4a5227958afe7dc32",
            "585c4cf770b6403a8f2bb1dc724a7b6a",
            "a5b5648689bf4293bb80e868c5b96119",
            "499be9985d4e4c1e9e3e71666f8aae1a"
          ]
        },
        "id": "yXIVQdGbYwDG",
        "outputId": "f0341441-0e5c-428f-cb3b-bb01cc501b19"
      },
      "execution_count": null,
      "outputs": [
        {
          "output_type": "display_data",
          "data": {
            "text/plain": [
              "  0%|          | 0/155 [00:00<?, ?it/s]"
            ],
            "application/vnd.jupyter.widget-view+json": {
              "version_major": 2,
              "version_minor": 0,
              "model_id": "b86f2b8705b84e3fa01ff0ba5fff44a7"
            }
          },
          "metadata": {}
        },
        {
          "output_type": "stream",
          "name": "stdout",
          "text": [
            "Y\n",
            "Y\n",
            "Y\n",
            "Y\n",
            "Y\n",
            "Y\n",
            "Y\n",
            "Y\n",
            "Y\n",
            "Y\n",
            "Y\n",
            "Y\n",
            "Y\n",
            "Y\n",
            "Y\n",
            "Y\n",
            "Y\n",
            "Y\n",
            "Y\n",
            "Y\n",
            "Y\n",
            "Y\n",
            "Y\n",
            "Y\n",
            "Y\n",
            "Y\n",
            "Y\n",
            "Y\n",
            "Y\n",
            "Y\n",
            "Y\n",
            "Y\n",
            "Y\n",
            "Y\n",
            "Y\n",
            "Y\n",
            "Y\n",
            "Y\n",
            "Y\n",
            "Y\n",
            "Y\n",
            "Y\n",
            "Y\n",
            "Y\n",
            "Y\n",
            "Y\n",
            "Y\n",
            "Y\n",
            "Y\n",
            "Y\n",
            "Y\n",
            "Y\n",
            "Y\n",
            "Y\n",
            "Y\n",
            "Y\n",
            "Y\n",
            "Y\n",
            "Y\n",
            "Y\n",
            "Y\n",
            "Y\n",
            "Y\n",
            "Y\n",
            "Y\n",
            "Y\n",
            "Y\n",
            "Y\n",
            "Y\n",
            "Y\n",
            "Y\n",
            "Y\n",
            "Y\n",
            "Y\n",
            "Y\n",
            "Y\n",
            "Y\n",
            "Y\n",
            "Y\n",
            "Y\n",
            "Y\n",
            "Y\n",
            "Y\n",
            "Y\n",
            "Y\n",
            "Y\n",
            "Y\n",
            "Y\n",
            "Y\n",
            "Y\n",
            "Y\n",
            "Y\n",
            "Y\n",
            "Y\n",
            "Y\n",
            "Y\n",
            "Y\n",
            "Y\n",
            "Y\n",
            "Y\n",
            "Y\n",
            "Y\n",
            "Y\n",
            "Y\n",
            "Y\n",
            "Y\n",
            "Y\n",
            "Y\n",
            "Y\n",
            "Y\n",
            "Y\n",
            "Y\n",
            "Y\n",
            "Y\n",
            "Y\n",
            "Y\n",
            "Y\n",
            "Y\n",
            "Y\n",
            "Y\n",
            "Y\n",
            "Y\n",
            "Y\n",
            "Y\n",
            "Y\n",
            "Y\n",
            "Y\n",
            "Y\n",
            "Y\n",
            "Y\n",
            "Y\n",
            "Y\n",
            "Y\n",
            "Y\n",
            "Y\n",
            "Y\n",
            "Y\n",
            "Y\n",
            "Y\n",
            "Y\n",
            "Y\n",
            "Y\n",
            "Y\n",
            "Y\n",
            "Y\n",
            "Y\n",
            "Y\n",
            "Y\n",
            "Y\n",
            "Y\n",
            "Y\n",
            "Y\n",
            "Y\n",
            "Y\n",
            "Y\n"
          ]
        },
        {
          "output_type": "display_data",
          "data": {
            "text/plain": [
              "  0%|          | 0/98 [00:00<?, ?it/s]"
            ],
            "application/vnd.jupyter.widget-view+json": {
              "version_major": 2,
              "version_minor": 0,
              "model_id": "90bfbfc99bd7406abb6cf66b9d573b11"
            }
          },
          "metadata": {}
        },
        {
          "output_type": "stream",
          "name": "stdout",
          "text": [
            "['Y', 'Y', 'Y', 'Y', 'Y', 'Y', 'Y', 'Y', 'Y', 'Y', 'Y', 'Y', 'Y', 'Y', 'Y', 'Y', 'Y', 'Y', 'Y', 'Y', 'Y', 'Y', 'Y', 'Y', 'Y', 'Y', 'Y', 'Y', 'Y', 'Y', 'Y', 'Y', 'Y', 'Y', 'Y', 'Y', 'Y', 'Y', 'Y', 'Y', 'Y', 'Y', 'Y', 'Y', 'Y', 'Y', 'Y', 'Y', 'Y', 'Y', 'Y', 'Y', 'Y', 'Y', 'Y', 'Y', 'Y', 'Y', 'Y', 'Y', 'Y', 'Y', 'Y', 'Y', 'Y', 'Y', 'Y', 'Y', 'Y', 'Y', 'Y', 'Y', 'Y', 'Y', 'Y', 'Y', 'Y', 'Y', 'Y', 'Y', 'Y', 'Y', 'Y', 'Y', 'Y', 'Y', 'Y', 'Y', 'Y', 'Y', 'Y', 'Y', 'Y', 'Y', 'Y', 'Y', 'Y', 'Y', 'Y', 'Y', 'Y', 'Y', 'Y', 'Y', 'Y', 'Y', 'Y', 'Y', 'Y', 'Y', 'Y', 'Y', 'Y', 'Y', 'Y', 'Y', 'Y', 'Y', 'Y', 'Y', 'Y', 'Y', 'Y', 'Y', 'Y', 'Y', 'Y', 'Y', 'Y', 'Y', 'Y', 'Y', 'Y', 'Y', 'Y', 'Y', 'Y', 'Y', 'Y', 'Y', 'Y', 'Y', 'Y', 'Y', 'Y', 'Y', 'Y', 'Y', 'Y', 'Y', 'Y', 'Y', 'Y', 'Y', 'Y', 'N', 'N', 'N', 'N', 'N', 'N', 'N', 'N', 'N', 'N', 'N', 'N', 'N', 'N', 'N', 'N', 'N', 'N', 'N', 'N', 'N', 'N', 'N', 'N', 'N', 'N', 'N', 'N', 'N', 'N', 'N', 'N', 'N', 'N', 'N', 'N', 'N', 'N', 'N', 'N', 'N', 'N', 'N', 'N', 'N', 'N', 'N', 'N', 'N', 'N', 'N', 'N', 'N', 'N', 'N', 'N', 'N', 'N', 'N', 'N', 'N', 'N', 'N', 'N', 'N', 'N', 'N', 'N', 'N', 'N', 'N', 'N', 'N', 'N', 'N', 'N', 'N', 'N', 'N', 'N', 'N', 'N', 'N', 'N', 'N', 'N', 'N', 'N', 'N', 'N', 'N', 'N', 'N', 'N', 'N', 'N', 'N', 'N']\n"
          ]
        }
      ]
    },
    {
      "cell_type": "markdown",
      "source": [
        "**VISUALISE AND PLOT THE IMAGE**"
      ],
      "metadata": {
        "id": "XG4lG1LbAzJo"
      }
    },
    {
      "cell_type": "code",
      "source": [
        "%matplotlib inline#plot the images\n",
        "import matplotlib.pyplot as plt\n",
        "plt.figure(figsize=(10, 10))\n",
        "for i in range(4):\n",
        "    plt.subplot(1, 6, i+1)\n",
        "    plt.imshow(X[i], cmap=\"gray\")\n",
        "    plt.axis('off')\n",
        "plt.show()"
      ],
      "metadata": {
        "colab": {
          "base_uri": "https://localhost:8080/",
          "height": 147
        },
        "id": "jyQ0777CZcR6",
        "outputId": "8c3b3bf4-8c0d-429b-abc8-a3d01005bc7f"
      },
      "execution_count": null,
      "outputs": [
        {
          "output_type": "display_data",
          "data": {
            "text/plain": [
              "<Figure size 1000x1000 with 4 Axes>"
            ],
            "image/png": "[encoded data removed]"
          },
          "metadata": {}
        }
      ]
    },
    {
      "cell_type": "code",
      "source": [
        "from IPython.display import Image, display\n",
        "image_path = '/content/brain image mri.jpeg'\n",
        "display(Image(filename=image_path, width=500))"
      ],
      "metadata": {
        "id": "YDGHIjPBFKDA",
        "outputId": "34100930-0cd6-467c-b586-0b4d9a011c84",
        "colab": {
          "base_uri": "https://localhost:8080/",
          "height": 585
        }
      },
      "execution_count": null,
      "outputs": [
        {
          "output_type": "display_data",
          "data": {
            "image/jpeg": "[encoded data removed]",
            "text/plain": [
              "<IPython.core.display.Image object>"
            ]
          },
          "metadata": {
            "image/jpeg": {
              "width": 500
            }
          }
        }
      ]
    },
    {
      "cell_type": "markdown",
      "source": [
        "**TRAINING AND TESTING THE DATA**"
      ],
      "metadata": {
        "id": "-yNdaNLfBBip"
      }
    },
    {
      "cell_type": "code",
      "source": [
        "import os\n",
        "import cv2\n",
        "import numpy as np\n",
        "from sklearn.model_selection import train_test_split\n",
        "from sklearn.preprocessing import OneHotEncoder\n",
        "\n",
        "# Path to the dataset\n",
        "data_path = '/content/yes'\n",
        "\n",
        "# Initialize lists to store data\n",
        "X = []\n",
        "y = []\n",
        "\n",
        "# Read images and labels\n",
        "for filename in os.listdir(data_path):\n",
        "    img_path = os.path.join(data_path, filename)\n",
        "    img = cv2.imread(img_path)\n",
        "    img = cv2.resize(img, (224, 224))  # Resize images to a consistent size\n",
        "    X.append(img)\n",
        "\n",
        "    # Assuming 'yes' indicates the presence of a tumor\n",
        "    label = 1 if 'yes' in filename.lower() else 0\n",
        "    y.append(label)\n",
        "\n",
        "# Convert lists to NumPy arrays\n",
        "X = np.array(X)\n",
        "y = np.array(y)\n",
        "\n",
        "# Train-test split\n",
        "X_train, X_test, y_train, y_test = train_test_split(X, y, test_size=0.33, random_state=42)\n",
        "\n",
        "# Print the shape of X_train and X_test\n",
        "print(\"Number of samples in X_train: \", len(X_train))\n",
        "print(\"Number of samples in X_test: \", len(X_test))\n",
        "\n",
        "# shape of the first image in X_train and X_test\n",
        "if len(X_train) > 0:\n",
        "    print(\"Shape of an image in X_train: \", X_train[0].shape)\n",
        "else:\n",
        "    print(\"X_train is empty\")\n",
        "\n",
        "if len(X_test) > 0:\n",
        "    print(\"Shape of an image in X_test: \", X_test[0].shape)\n",
        "else:\n",
        "    print(\"X_test is empty\")\n"
      ],
      "metadata": {
        "colab": {
          "base_uri": "https://localhost:8080/"
        },
        "id": "xuRBXSBlQ8lQ",
        "outputId": "fb54c769-7f82-4edc-efab-306d431156e8"
      },
      "execution_count": null,
      "outputs": [
        {
          "output_type": "stream",
          "name": "stdout",
          "text": [
            "Number of samples in X_train:  103\n",
            "Number of samples in X_test:  52\n",
            "Shape of an image in X_train:  (224, 224, 3)\n",
            "Shape of an image in X_test:  (224, 224, 3)\n"
          ]
        }
      ]
    },
    {
      "cell_type": "code",
      "source": [
        "data = np.array(data)\n",
        "data.shape"
      ],
      "metadata": {
        "colab": {
          "base_uri": "https://localhost:8080/"
        },
        "id": "_fftymk5dR2E",
        "outputId": "85911a1d-bda0-4a16-92c9-927e55746323"
      },
      "execution_count": null,
      "outputs": [
        {
          "output_type": "execute_result",
          "data": {
            "text/plain": [
              "(0,)"
            ]
          },
          "metadata": {},
          "execution_count": 133
        }
      ]
    },
    {
      "cell_type": "code",
      "source": [
        "y_train.shape"
      ],
      "metadata": {
        "colab": {
          "base_uri": "https://localhost:8080/"
        },
        "id": "UBXJzKCxcbe4",
        "outputId": "29a3daab-6d29-4baa-c4b0-c398127f3ae7"
      },
      "execution_count": null,
      "outputs": [
        {
          "output_type": "execute_result",
          "data": {
            "text/plain": [
              "(103,)"
            ]
          },
          "metadata": {},
          "execution_count": 122
        }
      ]
    },
    {
      "cell_type": "code",
      "source": [
        "\n",
        "from keras.layers import Conv2D, MaxPooling2D, Flatten, Dense, Dropout\n",
        "from keras.utils import to_categorical\n",
        "from sklearn.model_selection import train_test_split"
      ],
      "metadata": {
        "id": "F6SQ7WLZ0KqO"
      },
      "execution_count": null,
      "outputs": []
    },
    {
      "cell_type": "markdown",
      "source": [
        "**SAMPLE PREDICITIONS**"
      ],
      "metadata": {
        "id": "pf2pEY45BnTZ"
      }
    },
    {
      "cell_type": "code",
      "source": [
        "sample_prediction = model.predict(np.array([X_test[0]]))# Calculating Sample Predicitions for given data\n",
        "print(\"Sample Prediction Probabilities:\", sample_prediction)\n",
        "predicted_class = np.argmax(sample_prediction)\n",
        "print(\"Predicted Class:\", predicted_class)"
      ],
      "metadata": {
        "colab": {
          "base_uri": "https://localhost:8080/"
        },
        "id": "cdnieo1DzQNc",
        "outputId": "b76adf67-5777-455b-fafc-b1873235e69e"
      },
      "execution_count": null,
      "outputs": [
        {
          "output_type": "stream",
          "name": "stdout",
          "text": [
            "1/1 [==============================] - 2s 2s/step\n",
            "Sample Prediction Probabilities: [[9.56528766e-07 1.18886792e-05 3.98787506e-06 9.68298446e-06\n",
            "  5.65116238e-07 1.91166437e-05 1.11087347e-05 4.66694445e-07\n",
            "  3.48366598e-07 1.60607470e-07 1.71192070e-07 1.05219374e-06\n",
            "  2.03072477e-06 7.55813289e-07 2.36761434e-06 5.25677365e-07\n",
            "  2.93999364e-07 1.16630952e-06 6.96734475e-08 4.35409038e-06\n",
            "  3.20399778e-07 8.05243019e-07 1.90947759e-07 1.06155056e-07\n",
            "  3.21390553e-06 1.35683456e-06 6.59446823e-06 2.55620307e-06\n",
            "  3.21431617e-06 4.49704260e-07 1.81285805e-06 6.61374679e-06\n",
            "  3.40931592e-06 2.64338155e-06 3.66513450e-06 1.80332938e-06\n",
            "  9.56617714e-06 1.20645541e-06 2.78224434e-06 1.16010668e-07\n",
            "  5.74828255e-06 1.27192266e-06 2.14051511e-07 1.16011797e-05\n",
            "  2.88432398e-06 3.50715339e-07 2.77136564e-06 2.56873727e-06\n",
            "  8.81549056e-08 1.30712431e-06 1.73754852e-05 8.34259117e-06\n",
            "  3.80784732e-05 1.29389036e-05 1.92901825e-05 9.88277316e-06\n",
            "  1.02766683e-06 3.28372630e-06 1.34930078e-05 6.13811790e-05\n",
            "  4.31010994e-05 1.95565394e-06 8.79848267e-06 2.00118811e-05\n",
            "  1.38665719e-05 4.71069689e-06 2.75105140e-05 4.83522399e-06\n",
            "  6.24546465e-06 6.59653510e-04 1.49772895e-05 4.42381133e-04\n",
            "  9.95650498e-06 1.31982160e-04 1.96010424e-05 4.97596920e-04\n",
            "  3.83165798e-06 6.06004360e-05 1.57832552e-03 3.02693574e-04\n",
            "  2.35962901e-07 1.07392346e-07 1.30175465e-07 2.62746698e-06\n",
            "  1.84857200e-07 4.79782670e-07 2.07280138e-07 1.38369551e-05\n",
            "  2.14790657e-06 6.80332789e-07 4.62637104e-07 1.25927855e-08\n",
            "  5.53179461e-07 7.78812819e-08 6.40137478e-06 1.08436105e-07\n",
            "  3.69412533e-07 1.70490992e-07 1.14290984e-07 3.39937316e-07\n",
            "  6.07011089e-06 1.82962481e-07 2.32123270e-07 2.28213207e-06\n",
            "  8.82517668e-07 1.09097996e-07 1.85942713e-06 2.51557957e-03\n",
            "  1.30254330e-05 3.72323552e-06 1.62514316e-05 1.81971654e-01\n",
            "  4.11984111e-05 2.02902429e-05 8.84576639e-06 1.39475278e-05\n",
            "  3.14209005e-03 1.07840184e-04 3.73103035e-06 4.08657570e-07\n",
            "  3.74155097e-05 2.64724264e-07 3.69198233e-06 1.69954558e-06\n",
            "  3.49393740e-05 5.47471245e-06 4.61830874e-04 3.41259501e-08\n",
            "  1.25820250e-07 5.35348590e-07 5.84193174e-07 2.20327266e-07\n",
            "  1.40581994e-06 2.52479794e-07 1.98017588e-07 4.55223557e-07\n",
            "  1.98824452e-07 7.54335971e-08 3.63831361e-07 2.72258916e-07\n",
            "  9.71150030e-07 4.99885687e-07 2.55766963e-07 7.69194841e-08\n",
            "  5.17842196e-08 2.19025011e-07 1.71861927e-07 1.97466670e-06\n",
            "  1.17205525e-06 1.38237715e-06 6.61739023e-07 1.13188498e-05\n",
            "  6.41010104e-07 5.73470572e-07 2.84240832e-06 3.50454752e-06\n",
            "  1.50297228e-06 1.87442549e-06 2.06481400e-06 2.39859872e-07\n",
            "  5.36463233e-07 5.51342191e-06 2.11965994e-06 4.69958241e-06\n",
            "  2.64028995e-06 6.29358624e-07 1.16022682e-06 6.25881739e-07\n",
            "  1.76075912e-06 4.95625272e-07 4.90518630e-07 7.75828710e-07\n",
            "  4.06519894e-06 1.70085889e-06 2.14212355e-06 7.05018351e-07\n",
            "  1.45345226e-07 1.29878413e-06 4.30715772e-06 5.35306697e-07\n",
            "  4.72800849e-07 1.64124094e-06 7.46374781e-07 2.66383324e-07\n",
            "  1.14124006e-07 4.57336171e-07 5.52098015e-07 9.12589167e-06\n",
            "  1.61672835e-06 3.66668502e-07 2.81872474e-07 2.82227143e-06\n",
            "  1.67076814e-06 1.13219869e-06 3.92905463e-07 6.00647354e-06\n",
            "  6.39648033e-06 9.11101608e-07 2.78465745e-06 4.33025662e-07\n",
            "  4.60745332e-06 7.64275626e-07 1.89861987e-06 6.77148819e-07\n",
            "  1.00478326e-06 7.83989378e-07 6.47023512e-07 5.46219326e-07\n",
            "  1.15264470e-06 1.08053803e-06 5.31790704e-07 6.29185195e-07\n",
            "  2.70772091e-07 1.47250432e-06 6.78921822e-07 4.55494074e-07\n",
            "  4.54559370e-07 1.27150554e-06 9.83042014e-07 4.06433855e-06\n",
            "  2.73222736e-06 1.41404360e-06 2.85166266e-07 9.81150947e-07\n",
            "  5.33283810e-07 8.62962509e-07 2.40890677e-06 1.26264695e-06\n",
            "  1.95649406e-07 7.09608628e-07 5.92209631e-07 7.91458035e-07\n",
            "  2.54998440e-06 5.56695386e-06 1.13308761e-06 2.65588460e-06\n",
            "  5.20360800e-07 1.58797604e-06 5.63261040e-07 1.17417756e-06\n",
            "  9.54523102e-07 7.14740509e-07 1.33614412e-06 2.03873384e-07\n",
            "  4.64405275e-07 1.45113177e-06 3.61906245e-07 6.36903053e-07\n",
            "  1.55042892e-06 4.98295230e-06 2.77302070e-06 2.57847233e-07\n",
            "  1.94766335e-06 1.02358320e-06 1.79395693e-06 1.74472987e-07\n",
            "  6.32412650e-07 3.76413396e-07 2.47934054e-07 6.33568675e-07\n",
            "  1.36252322e-06 4.49778867e-07 5.09865629e-07 1.46393495e-06\n",
            "  9.58508508e-07 3.71751958e-06 5.08824144e-07 1.32387939e-07\n",
            "  2.18536996e-07 2.28355157e-06 9.59527370e-07 1.62204708e-06\n",
            "  2.31058834e-06 2.34411164e-06 8.69985513e-07 5.23778283e-07\n",
            "  5.89611716e-07 1.33276023e-06 3.09690222e-06 9.36388631e-07\n",
            "  1.14180530e-05 1.66772988e-05 8.17840646e-06 3.09636471e-06\n",
            "  1.11658028e-05 8.74812304e-06 1.65296535e-06 1.64585538e-06\n",
            "  4.49524826e-08 2.81543919e-07 1.20503458e-07 3.21314985e-07\n",
            "  5.79952712e-07 1.37471190e-07 2.47661319e-07 3.28331737e-07\n",
            "  7.26136591e-07 1.15267483e-07 2.15208203e-07 1.21057792e-06\n",
            "  1.11752263e-06 1.82549498e-04 4.11787696e-05 8.41042038e-06\n",
            "  2.29531361e-04 2.50698417e-06 1.76462981e-05 6.79468212e-06\n",
            "  2.31360827e-04 2.14016938e-04 2.48727796e-04 3.59983596e-06\n",
            "  7.15008809e-06 3.79091716e-06 5.10808823e-05 6.79673394e-05\n",
            "  4.21617529e-04 6.72869210e-05 8.27165146e-04 5.80187880e-05\n",
            "  6.74124612e-06 8.87929048e-07 1.32688581e-06 2.21930964e-06\n",
            "  8.25427196e-06 5.95288066e-06 1.80371717e-05 5.22109622e-05\n",
            "  2.25766325e-05 1.59227363e-06 2.33722290e-06 7.00832970e-06\n",
            "  5.68451242e-07 3.65274013e-06 2.18366793e-07 2.38368074e-07\n",
            "  2.42704505e-08 9.39818619e-07 5.24285554e-07 4.17308996e-07\n",
            "  3.98842474e-07 2.52330040e-07 1.07266857e-07 6.44284682e-07\n",
            "  3.68121505e-07 1.15938292e-06 9.05776119e-07 1.90514484e-07\n",
            "  2.93139863e-07 2.53440874e-07 7.31421494e-07 4.48720215e-07\n",
            "  1.35985545e-06 1.56917315e-06 1.54620807e-07 1.13368208e-06\n",
            "  1.91211711e-06 2.96450224e-07 3.94787776e-06 1.71470094e-06\n",
            "  4.20635934e-06 1.18157274e-07 2.62772778e-06 1.14609861e-06\n",
            "  4.69908656e-07 6.69422889e-06 8.64004221e-07 5.91784828e-06\n",
            "  1.13490455e-06 1.80952952e-06 4.22563261e-07 1.20053880e-06\n",
            "  2.80970738e-07 3.15275742e-07 2.64392469e-07 1.17341123e-07\n",
            "  1.24778254e-07 1.04013770e-06 3.81967141e-07 2.00518548e-06\n",
            "  6.89426543e-07 1.97488404e-07 1.00204454e-06 1.45414958e-07\n",
            "  2.38008695e-07 9.99997241e-08 1.74378840e-07 1.14701102e-07\n",
            "  1.83583566e-08 1.86078541e-05 4.06270328e-06 2.22487643e-06\n",
            "  3.59758275e-07 3.79498459e-07 7.93819891e-06 4.23496977e-06\n",
            "  4.76918513e-06 1.43538382e-05 1.22382393e-04 1.83703526e-06\n",
            "  4.22670655e-06 9.08515119e-07 3.91885897e-06 4.75120743e-08\n",
            "  8.17200998e-07 3.30676301e-07 2.51356869e-05 3.78850622e-08\n",
            "  5.04880546e-08 3.79014702e-04 6.80638493e-07 4.57751776e-06\n",
            "  9.09748123e-05 3.90401823e-07 4.87873913e-05 8.14742361e-06\n",
            "  2.11630504e-06 1.86658472e-05 1.05374726e-04 5.13865052e-05\n",
            "  2.24165833e-05 2.52255013e-05 2.34345225e-06 3.02718661e-07\n",
            "  5.90953455e-08 5.45505294e-08 2.00098308e-04 1.81738972e-06\n",
            "  1.57421164e-05 1.44983414e-06 6.54332098e-07 1.01180580e-04\n",
            "  3.17343756e-06 7.57973385e-06 1.12108304e-04 1.78130475e-04\n",
            "  1.20115303e-07 2.17720711e-07 5.99636056e-04 1.15613682e-06\n",
            "  3.25166147e-05 1.06464850e-03 1.54439465e-06 1.00579241e-03\n",
            "  1.07811286e-06 6.26671635e-06 7.29876701e-05 3.06722723e-06\n",
            "  2.28491426e-05 2.26876242e-08 7.11471444e-07 2.53093839e-01\n",
            "  1.76193338e-04 6.61228682e-07 3.31254199e-07 1.60359938e-04\n",
            "  4.03004879e-06 2.39708279e-05 6.67892746e-05 1.68555016e-05\n",
            "  1.28182080e-07 1.44869191e-04 3.73042917e-06 5.17331122e-04\n",
            "  2.53883246e-02 4.75333081e-07 8.61178478e-07 1.94058373e-07\n",
            "  7.41222152e-07 9.66093503e-05 2.59835012e-02 1.42116278e-06\n",
            "  2.31189756e-06 9.91727720e-05 1.07377139e-06 1.33015084e-04\n",
            "  2.75591333e-06 9.52563823e-06 8.91644595e-06 6.95608906e-05\n",
            "  9.66628022e-07 6.38636557e-05 8.41204110e-06 2.34265769e-07\n",
            "  2.97987100e-07 2.80674249e-05 6.81517918e-07 1.16049028e-04\n",
            "  1.10611851e-04 7.49638730e-06 8.49214630e-05 2.57632649e-07\n",
            "  8.32673413e-06 1.04766093e-06 1.91303773e-03 2.98636314e-05\n",
            "  3.45566281e-04 2.06353047e-06 2.43454565e-07 1.53806341e-05\n",
            "  8.77624160e-08 2.13413132e-05 1.31444040e-05 1.05974061e-04\n",
            "  6.94278715e-05 7.62171403e-05 3.77667078e-04 1.48554012e-04\n",
            "  4.84658995e-06 9.17502462e-07 2.84291929e-07 3.82054537e-07\n",
            "  2.43846473e-04 2.07923717e-04 3.22775995e-05 5.38028544e-05\n",
            "  1.24744663e-04 2.81979374e-06 6.42232699e-05 6.37974154e-07\n",
            "  4.69539327e-06 6.45049249e-06 4.00390672e-06 1.25281383e-06\n",
            "  2.12081359e-05 3.18206830e-08 1.15618576e-07 3.72537716e-06\n",
            "  1.10545356e-04 4.87979742e-06 2.86641935e-05 1.46787670e-05\n",
            "  2.96287863e-06 4.99275120e-06 2.07604285e-06 3.99816463e-06\n",
            "  1.07045203e-07 1.03087564e-06 2.15328623e-06 2.09782720e-05\n",
            "  5.08148162e-07 2.83170102e-05 4.39938231e-06 1.81796349e-06\n",
            "  3.10589053e-06 1.59773146e-04 6.08508208e-06 5.70237333e-08\n",
            "  1.04568194e-07 2.37562672e-05 1.04469962e-06 1.37439609e-04\n",
            "  7.25185091e-05 1.10363123e-06 1.72405873e-06 3.66801061e-07\n",
            "  2.97262770e-04 7.17636453e-07 4.49045365e-06 1.26061957e-06\n",
            "  7.36552010e-06 3.71827298e-07 6.88973741e-05 9.41672806e-06\n",
            "  7.91998673e-07 2.34678780e-07 1.84345781e-03 5.86638562e-05\n",
            "  1.93603182e-06 1.21978285e-08 2.39432760e-04 8.43994485e-07\n",
            "  7.76791573e-02 5.64570598e-07 4.14968934e-04 8.06314176e-07\n",
            "  3.76070557e-06 1.47559913e-03 1.60759664e-05 5.66797553e-07\n",
            "  3.91011042e-07 9.44416242e-05 7.83690695e-08 1.65433503e-05\n",
            "  2.80004949e-03 6.33464515e-06 4.01645650e-07 9.89797718e-06\n",
            "  8.87140268e-05 2.64082028e-05 9.50280480e-07 2.32558697e-04\n",
            "  5.97449252e-06 1.49822472e-05 3.75898635e-05 8.02185838e-08\n",
            "  3.27388771e-05 3.47243476e-05 2.29035066e-07 8.11511476e-04\n",
            "  4.01827134e-02 3.03664801e-05 3.34555381e-07 6.64547244e-08\n",
            "  4.16237488e-03 4.85487762e-05 2.49365723e-04 3.42718180e-04\n",
            "  2.00431555e-06 8.28690929e-08 1.40768007e-05 2.12167943e-05\n",
            "  1.05620963e-07 3.89872230e-06 1.41814371e-06 4.74262060e-06\n",
            "  2.64521252e-04 1.44235191e-05 4.47552502e-02 1.23632327e-02\n",
            "  1.91410345e-05 5.55730253e-07 6.50223728e-06 4.70582541e-04\n",
            "  9.80321374e-07 1.81416794e-07 2.13524807e-04 5.82343091e-07\n",
            "  1.12673582e-07 6.73796530e-05 1.77984602e-05 1.09307497e-04\n",
            "  6.42022060e-05 2.36798264e-03 4.53073810e-08 3.08946852e-04\n",
            "  7.09457789e-04 5.57043813e-06 2.71360068e-06 1.46158584e-06\n",
            "  7.43219289e-06 6.24964377e-05 7.76639624e-08 1.69491570e-03\n",
            "  3.01146094e-04 2.50008884e-06 3.80691176e-06 2.75227412e-05\n",
            "  1.02006088e-05 4.12868076e-06 2.01068149e-04 1.77325273e-06\n",
            "  4.12211648e-07 2.71559406e-06 1.32546745e-07 2.40683312e-06\n",
            "  1.14122699e-07 1.50009112e-06 1.69535197e-05 7.19865668e-04\n",
            "  1.46715218e-08 7.10440816e-07 4.03977101e-05 1.96843445e-07\n",
            "  2.22684757e-05 8.37018888e-06 3.81825812e-05 3.82128701e-06\n",
            "  5.45383386e-07 2.06892091e-05 7.46733258e-06 5.56345924e-07\n",
            "  9.20566606e-07 2.75195547e-04 1.86567358e-05 4.70077177e-09\n",
            "  2.28457211e-05 6.90122542e-04 3.24142388e-06 1.01675065e-02\n",
            "  2.31852056e-03 4.60639058e-06 4.91343635e-05 3.87668388e-06\n",
            "  1.41565071e-03 1.19035803e-06 1.53557630e-05 6.72514432e-07\n",
            "  7.49753826e-06 1.77466300e-05 1.05941666e-07 1.83479360e-03\n",
            "  2.57422827e-04 4.24349055e-05 6.88452133e-07 1.26252591e-04\n",
            "  1.06031883e-04 6.88594355e-06 2.87549540e-07 3.09116899e-06\n",
            "  6.13086100e-04 4.96216016e-05 2.34892286e-06 4.09687163e-06\n",
            "  4.39009864e-06 1.38200605e-07 9.56776418e-08 1.60835634e-06\n",
            "  5.09746023e-05 3.29789764e-04 1.97141533e-04 2.73892307e-03\n",
            "  6.00745110e-03 3.53123738e-07 1.58126932e-02 2.93708508e-05\n",
            "  4.26046245e-06 2.01496757e-08 4.51487182e-07 7.10041277e-05\n",
            "  3.65097978e-04 2.27187302e-05 2.81233188e-05 4.92239415e-05\n",
            "  7.57239249e-08 3.79447266e-03 9.75483999e-07 2.51132349e-07\n",
            "  1.75442328e-04 1.12717610e-03 2.34021698e-07 2.01782623e-05\n",
            "  1.77622155e-06 1.97072723e-06 1.14411973e-08 5.84254212e-06\n",
            "  3.04037576e-06 1.56197450e-04 1.37300858e-05 1.33153861e-07\n",
            "  6.48206878e-07 2.68871395e-06 1.75878893e-06 1.01223134e-06\n",
            "  5.66091239e-06 3.91864050e-05 2.77889922e-05 8.11811424e-06\n",
            "  1.61846238e-03 1.32956811e-05 2.98123405e-06 1.24921016e-07\n",
            "  1.57130798e-05 5.86158167e-05 3.57817189e-05 1.97183745e-05\n",
            "  4.23928941e-06 1.01841813e-07 3.76482171e-06 1.38462542e-06\n",
            "  6.07808431e-07 1.51791857e-04 1.93621645e-06 1.33349313e-05\n",
            "  1.96566475e-06 8.23505434e-06 3.29664914e-07 4.44334582e-04\n",
            "  1.32597188e-05 4.21115605e-04 2.27247310e-05 7.96516542e-06\n",
            "  5.34887798e-03 4.56147507e-04 2.91817210e-04 2.38895495e-06\n",
            "  5.33437487e-05 7.41471013e-05 9.68087552e-05 1.28755104e-07\n",
            "  4.49565761e-07 1.17158073e-07 8.91591844e-06 4.45692660e-03\n",
            "  1.53627276e-04 1.48039635e-06 3.77800689e-06 5.80933131e-03\n",
            "  2.12503369e-06 1.45992954e-06 1.16516067e-05 1.98469547e-06\n",
            "  2.20250404e-05 2.01043230e-03 2.42609312e-05 3.35139612e-06\n",
            "  1.08267068e-05 1.72733453e-05 2.00311956e-06 1.34531172e-06\n",
            "  9.40807752e-07 2.06745943e-04 3.60145327e-06 3.31394517e-07\n",
            "  8.44084716e-04 3.64997359e-05 1.45942272e-06 4.66874772e-05\n",
            "  1.83607044e-04 1.91112305e-03 1.20837615e-06 3.56369528e-05\n",
            "  2.25323970e-06 3.60214064e-04 4.96478719e-07 2.39103028e-05\n",
            "  2.76964973e-04 6.19465482e-07 1.39144599e-01 1.32301795e-06\n",
            "  5.32203863e-08 2.59640160e-07 9.54545030e-05 5.07591685e-05\n",
            "  1.14388149e-05 2.67243454e-08 9.08535148e-05 5.49619699e-06\n",
            "  8.17071740e-03 2.90467767e-07 2.17245247e-06 6.23820426e-07\n",
            "  1.98212760e-07 1.65425917e-07 1.26847760e-06 4.85043529e-05\n",
            "  6.76448190e-06 3.10911055e-05 3.70051821e-05 6.00852161e-07\n",
            "  4.53397843e-05 8.88684372e-06 1.94520021e-06 3.88117496e-06\n",
            "  9.31922754e-04 7.14309863e-05 1.92285632e-03 6.28652899e-08\n",
            "  1.39474605e-05 3.71173628e-05 1.97778218e-06 2.54524093e-05\n",
            "  3.71990827e-05 2.58035513e-08 1.81284418e-06 3.90910963e-03\n",
            "  1.22848434e-07 1.83194334e-05 6.25405860e-08 1.67478265e-05\n",
            "  7.69916653e-07 1.47871871e-03 3.33156233e-04 4.03991908e-06\n",
            "  3.39572281e-08 2.18846921e-07 2.96779649e-06 1.25023263e-07\n",
            "  4.65294160e-03 1.57074976e-06 1.45091440e-06 2.24132663e-07\n",
            "  6.32144656e-06 1.66791210e-06 4.49053523e-08 6.92528993e-05\n",
            "  5.69432341e-05 3.72299212e-07 2.21994037e-06 4.90539014e-06\n",
            "  6.24308523e-05 4.50941791e-08 4.89050808e-06 6.78780163e-03\n",
            "  1.18871485e-05 2.34082341e-04 1.55392172e-05 4.45016689e-04\n",
            "  1.03906791e-06 2.68398082e-07 1.43920465e-06 2.66386105e-05\n",
            "  6.12546969e-03 9.23422194e-05 4.19280241e-06 1.22755148e-06\n",
            "  8.03569565e-04 1.41582888e-04 4.20880562e-04 4.46999649e-04\n",
            "  2.98015493e-07 4.06035193e-04 3.51492054e-04 1.27359293e-04\n",
            "  1.30363624e-04 9.99462463e-06 6.53441020e-05 3.30916839e-04\n",
            "  1.33779793e-06 1.21702160e-05 2.32047038e-04 1.02125341e-05\n",
            "  3.94986813e-07 5.19832554e-07 3.51459335e-07 8.78900650e-08\n",
            "  3.18601315e-06 1.98402176e-06 2.74661716e-06 4.16360717e-06\n",
            "  1.24964339e-04 8.09992853e-05 2.75514572e-06 4.87970217e-04\n",
            "  5.62097703e-05 2.74785096e-04 1.42313011e-05 7.73773791e-05\n",
            "  1.54257024e-04 1.21194746e-04 3.99623923e-06 2.52292898e-06\n",
            "  4.15088653e-05 2.35312328e-07 4.64757341e-06 4.39823270e-06\n",
            "  2.83820846e-05 1.35813571e-06 4.56386579e-06 2.62783556e-06\n",
            "  6.57334567e-06 1.40126704e-05 2.04271419e-05 1.43524492e-04\n",
            "  1.35827495e-05 1.10500507e-04 3.33774756e-06 1.13951974e-05\n",
            "  1.13399139e-04 2.59743858e-04 8.46476061e-04 1.90013170e-03\n",
            "  2.77871641e-05 2.03897143e-05 2.28811314e-05 3.09190591e-06\n",
            "  1.80487532e-05 3.83361941e-04 1.27713761e-07 1.48735526e-05\n",
            "  3.41922132e-04 4.18782338e-06 3.43782563e-06 2.38445273e-06\n",
            "  3.90015921e-05 1.82517379e-05 2.89548334e-04 1.10328974e-05\n",
            "  1.21308828e-03 9.00959931e-05 1.55953865e-06 3.11805587e-02\n",
            "  1.12132781e-07 7.00964279e-07 6.94993858e-08 6.97953226e-07\n",
            "  7.43522648e-08 5.90614354e-06 8.06311164e-07 7.89469752e-08\n",
            "  3.98203952e-07 1.22419692e-07 3.10065207e-06 8.12412327e-06\n",
            "  3.73038279e-06 2.35079642e-06 3.21499374e-06 2.24275955e-05\n",
            "  3.45529202e-06 1.18095104e-05 1.16044439e-05 8.22571053e-07\n",
            "  1.79833512e-06 4.95879192e-07 2.78697007e-05 8.19234810e-06\n",
            "  7.80095434e-07 5.65347477e-07 2.98137475e-05 1.67971011e-04]]\n",
            "Predicted Class: 451\n"
          ]
        }
      ]
    },
    {
      "cell_type": "markdown",
      "source": [
        "**IMPORT VGG16 MODEL ARCHITECTURE**"
      ],
      "metadata": {
        "id": "j6VEmSmyBwOq"
      }
    },
    {
      "cell_type": "code",
      "source": [
        "from keras.applications import vgg16 #Pre-trained models for various applications"
      ],
      "metadata": {
        "id": "SKJgiAWLaHs-"
      },
      "execution_count": null,
      "outputs": []
    },
    {
      "cell_type": "markdown",
      "source": [
        "**Vgg16 MODEL FOR IMAGE CLASSIFICATION AND MODEL PREDICITIONS**"
      ],
      "metadata": {
        "id": "9eQ_Bp84CCxA"
      }
    },
    {
      "cell_type": "code",
      "source": [
        "from keras.applications import vgg16\n",
        "from keras.preprocessing import image\n",
        "from keras.applications.vgg16 import preprocess_input, decode_predictions\n",
        "import numpy as np\n",
        "\n",
        "# Load the VGG16 model pre-trained on ImageNet data\n",
        "model = vgg16.VGG16(weights='imagenet')\n",
        "\n",
        "# Load and preprocess an image\n",
        "img_path = '/content/brain image mri.jpeg'\n",
        "img = image.load_img(img_path, target_size=(224, 224))\n",
        "img_array = image.img_to_array(img)\n",
        "img_array = np.expand_dims(img_array, axis=0)\n",
        "img_array = preprocess_input(img_array)\n",
        "\n",
        "# Get model predictions\n",
        "predictions = model.predict(img_array)\n",
        "\n",
        "# Decode and print the top-3 predicted classes\n",
        "decoded_predictions = decode_predictions(predictions, top=3)[0]\n",
        "for i, (imagenet_id, label, score) in enumerate(decoded_predictions):\n",
        "    print(f\"{i + 1}: {label} ({score:.2f})\")\n"
      ],
      "metadata": {
        "colab": {
          "base_uri": "https://localhost:8080/"
        },
        "id": "3E3eXwUE18SF",
        "outputId": "2a9d74f8-6919-414b-906b-7dc2f4d26279"
      },
      "execution_count": null,
      "outputs": [
        {
          "output_type": "stream",
          "name": "stdout",
          "text": [
            "1/1 [==============================] - 1s 781ms/step\n",
            "1: spotlight (0.55)\n",
            "2: bolo_tie (0.23)\n",
            "3: buckle (0.04)\n"
          ]
        }
      ]
    },
    {
      "cell_type": "markdown",
      "source": [
        " A BAR PLOT FOR TUMOR AND NORMAL SAMPLES"
      ],
      "metadata": {
        "id": "9DPkeoz5FcBD"
      }
    },
    {
      "cell_type": "code",
      "source": [
        "result = np.array([[1, 0], [0, 1], [1, 0], [1, 0], [0, 1], [0, 1]])\n",
        "\n",
        "\n",
        "tumor_count = np.sum(result[:, 0] == 1)\n",
        "normal_count = np.sum(result[:, 1] == 1)\n",
        "\n",
        "#label counts\n",
        "labels = ['Tumor', 'Normal']\n",
        "counts = [tumor_count, normal_count]\n",
        "\n",
        "#assign colors\n",
        "colors = ['Green', 'lightcoral']\n",
        "#plot the bar graph\n",
        "plt.bar(labels, counts, color=colors)\n",
        "plt.title('Distribution of Tumor and Normal Samples')\n",
        "plt.xlabel('Class')\n",
        "plt.ylabel('Count')\n",
        "plt.show()\n"
      ],
      "metadata": {
        "colab": {
          "base_uri": "https://localhost:8080/",
          "height": 472
        },
        "id": "9bh7EDZHFM3x",
        "outputId": "a95b41e2-d16f-4ff0-c328-d632af7f32e3"
      },
      "execution_count": null,
      "outputs": [
        {
          "output_type": "display_data",
          "data": {
            "text/plain": [
              "<Figure size 640x480 with 1 Axes>"
            ],
            "image/png": "[encoded data removed]"
          },
          "metadata": {}
        }
      ]
    },
    {
      "cell_type": "markdown",
      "source": [
        "PIE CHART OF TUMOR AND NORMAL CELLS"
      ],
      "metadata": {
        "id": "tFiWh-3uF4Yd"
      }
    },
    {
      "cell_type": "code",
      "source": [
        "total_samples = len(result)\n",
        "tumor_percentage = (tumor_count / total_samples) * 100\n",
        "normal_percentage = (normal_count / total_samples) * 100\n",
        "\n",
        "# assign labels and counts\n",
        "labels = ['Tumor', 'Normal']\n",
        "counts = [tumor_percentage, normal_percentage]\n",
        "colors = ['Black', 'lightcoral']\n",
        "#plot the pie chart\n",
        "plt.pie(counts, labels=labels, autopct='%1.1f%%', startangle=90, colors=colors)\n",
        "plt.title('Distribution of Tumor and Normal Samples')\n",
        "plt.show()"
      ],
      "metadata": {
        "colab": {
          "base_uri": "https://localhost:8080/",
          "height": 428
        },
        "id": "vTTUvAJfF1pz",
        "outputId": "2a9238df-3577-4c5d-8433-4dbc7554dd66"
      },
      "execution_count": null,
      "outputs": [
        {
          "output_type": "display_data",
          "data": {
            "text/plain": [
              "<Figure size 640x480 with 1 Axes>"
            ],
            "image/png": "[encoded data removed]"
          },
          "metadata": {}
        }
      ]
    },
    {
      "cell_type": "markdown",
      "source": [
        "**CONNECTION OF LAYERS AT TOP**"
      ],
      "metadata": {
        "id": "zpW9kVG0CTWT"
      }
    },
    {
      "cell_type": "code",
      "source": [
        "img_rows, img_cols = 224, 224\n",
        "\n",
        "\n",
        "vgg = vgg16.VGG16(weights = 'imagenet',\n",
        "                 include_top = False,\n",
        "                 input_shape = (img_rows, img_cols, 3))\n",
        "for layer in vgg.layers:\n",
        "    layer.trainable = False\n",
        "for (i,layer) in enumerate(vgg.layers):\n",
        "    print(str(i) + \" \"+ layer.__class__.__name__, layer.trainable)"
      ],
      "metadata": {
        "colab": {
          "base_uri": "https://localhost:8080/"
        },
        "id": "_r3FNmSAaH5G",
        "outputId": "739f0e1c-0b9d-4cd9-f6a1-d64118b93278"
      },
      "execution_count": null,
      "outputs": [
        {
          "output_type": "stream",
          "name": "stdout",
          "text": [
            "Downloading data from https://storage.googleapis.com/tensorflow/keras-applications/vgg16/vgg16_weights_tf_dim_ordering_tf_kernels_notop.h5\n",
            "58889256/58889256 [==============================] - 1s 0us/step\n",
            "0 InputLayer False\n",
            "1 Conv2D False\n",
            "2 Conv2D False\n",
            "3 MaxPooling2D False\n",
            "4 Conv2D False\n",
            "5 Conv2D False\n",
            "6 MaxPooling2D False\n",
            "7 Conv2D False\n",
            "8 Conv2D False\n",
            "9 Conv2D False\n",
            "10 MaxPooling2D False\n",
            "11 Conv2D False\n",
            "12 Conv2D False\n",
            "13 Conv2D False\n",
            "14 MaxPooling2D False\n",
            "15 Conv2D False\n",
            "16 Conv2D False\n",
            "17 Conv2D False\n",
            "18 MaxPooling2D False\n"
          ]
        }
      ]
    },
    {
      "cell_type": "markdown",
      "source": [
        "**INSTALL PACKAGES**"
      ],
      "metadata": {
        "id": "-mvCKcfHCagb"
      }
    },
    {
      "cell_type": "code",
      "source": [
        "pip install tensorflow pillow"
      ],
      "metadata": {
        "colab": {
          "base_uri": "https://localhost:8080/"
        },
        "id": "MPaBKC43G__w",
        "outputId": "55f80ba5-7d29-4f11-b308-f86fa830726b"
      },
      "execution_count": null,
      "outputs": [
        {
          "output_type": "stream",
          "name": "stdout",
          "text": [
            "Requirement already satisfied: tensorflow in /usr/local/lib/python3.10/dist-packages (2.15.0)\n",
            "Requirement already satisfied: pillow in /usr/local/lib/python3.10/dist-packages (9.4.0)\n",
            "Requirement already satisfied: absl-py>=1.0.0 in /usr/local/lib/python3.10/dist-packages (from tensorflow) (1.4.0)\n",
            "Requirement already satisfied: astunparse>=1.6.0 in /usr/local/lib/python3.10/dist-packages (from tensorflow) (1.6.3)\n",
            "Requirement already satisfied: flatbuffers>=23.5.26 in /usr/local/lib/python3.10/dist-packages (from tensorflow) (23.5.26)\n",
            "Requirement already satisfied: gast!=0.5.0,!=0.5.1,!=0.5.2,>=0.2.1 in /usr/local/lib/python3.10/dist-packages (from tensorflow) (0.5.4)\n",
            "Requirement already satisfied: google-pasta>=0.1.1 in /usr/local/lib/python3.10/dist-packages (from tensorflow) (0.2.0)\n",
            "Requirement already satisfied: h5py>=2.9.0 in /usr/local/lib/python3.10/dist-packages (from tensorflow) (3.9.0)\n",
            "Requirement already satisfied: libclang>=13.0.0 in /usr/local/lib/python3.10/dist-packages (from tensorflow) (16.0.6)\n",
            "Requirement already satisfied: ml-dtypes~=0.2.0 in /usr/local/lib/python3.10/dist-packages (from tensorflow) (0.2.0)\n",
            "Requirement already satisfied: numpy<2.0.0,>=1.23.5 in /usr/local/lib/python3.10/dist-packages (from tensorflow) (1.23.5)\n",
            "Requirement already satisfied: opt-einsum>=2.3.2 in /usr/local/lib/python3.10/dist-packages (from tensorflow) (3.3.0)\n",
            "Requirement already satisfied: packaging in /usr/local/lib/python3.10/dist-packages (from tensorflow) (23.2)\n",
            "Requirement already satisfied: protobuf!=4.21.0,!=4.21.1,!=4.21.2,!=4.21.3,!=4.21.4,!=4.21.5,<5.0.0dev,>=3.20.3 in /usr/local/lib/python3.10/dist-packages (from tensorflow) (3.20.3)\n",
            "Requirement already satisfied: setuptools in /usr/local/lib/python3.10/dist-packages (from tensorflow) (67.7.2)\n",
            "Requirement already satisfied: six>=1.12.0 in /usr/local/lib/python3.10/dist-packages (from tensorflow) (1.16.0)\n",
            "Requirement already satisfied: termcolor>=1.1.0 in /usr/local/lib/python3.10/dist-packages (from tensorflow) (2.4.0)\n",
            "Requirement already satisfied: typing-extensions>=3.6.6 in /usr/local/lib/python3.10/dist-packages (from tensorflow) (4.5.0)\n",
            "Requirement already satisfied: wrapt<1.15,>=1.11.0 in /usr/local/lib/python3.10/dist-packages (from tensorflow) (1.14.1)\n",
            "Requirement already satisfied: tensorflow-io-gcs-filesystem>=0.23.1 in /usr/local/lib/python3.10/dist-packages (from tensorflow) (0.35.0)\n",
            "Requirement already satisfied: grpcio<2.0,>=1.24.3 in /usr/local/lib/python3.10/dist-packages (from tensorflow) (1.60.0)\n",
            "Requirement already satisfied: tensorboard<2.16,>=2.15 in /usr/local/lib/python3.10/dist-packages (from tensorflow) (2.15.1)\n",
            "Requirement already satisfied: tensorflow-estimator<2.16,>=2.15.0 in /usr/local/lib/python3.10/dist-packages (from tensorflow) (2.15.0)\n",
            "Requirement already satisfied: keras<2.16,>=2.15.0 in /usr/local/lib/python3.10/dist-packages (from tensorflow) (2.15.0)\n",
            "Requirement already satisfied: wheel<1.0,>=0.23.0 in /usr/local/lib/python3.10/dist-packages (from astunparse>=1.6.0->tensorflow) (0.42.0)\n",
            "Requirement already satisfied: google-auth<3,>=1.6.3 in /usr/local/lib/python3.10/dist-packages (from tensorboard<2.16,>=2.15->tensorflow) (2.17.3)\n",
            "Requirement already satisfied: google-auth-oauthlib<2,>=0.5 in /usr/local/lib/python3.10/dist-packages (from tensorboard<2.16,>=2.15->tensorflow) (1.2.0)\n",
            "Requirement already satisfied: markdown>=2.6.8 in /usr/local/lib/python3.10/dist-packages (from tensorboard<2.16,>=2.15->tensorflow) (3.5.2)\n",
            "Requirement already satisfied: requests<3,>=2.21.0 in /usr/local/lib/python3.10/dist-packages (from tensorboard<2.16,>=2.15->tensorflow) (2.31.0)\n",
            "Requirement already satisfied: tensorboard-data-server<0.8.0,>=0.7.0 in /usr/local/lib/python3.10/dist-packages (from tensorboard<2.16,>=2.15->tensorflow) (0.7.2)\n",
            "Requirement already satisfied: werkzeug>=1.0.1 in /usr/local/lib/python3.10/dist-packages (from tensorboard<2.16,>=2.15->tensorflow) (3.0.1)\n",
            "Requirement already satisfied: cachetools<6.0,>=2.0.0 in /usr/local/lib/python3.10/dist-packages (from google-auth<3,>=1.6.3->tensorboard<2.16,>=2.15->tensorflow) (5.3.2)\n",
            "Requirement already satisfied: pyasn1-modules>=0.2.1 in /usr/local/lib/python3.10/dist-packages (from google-auth<3,>=1.6.3->tensorboard<2.16,>=2.15->tensorflow) (0.3.0)\n",
            "Requirement already satisfied: rsa<5,>=3.1.4 in /usr/local/lib/python3.10/dist-packages (from google-auth<3,>=1.6.3->tensorboard<2.16,>=2.15->tensorflow) (4.9)\n",
            "Requirement already satisfied: requests-oauthlib>=0.7.0 in /usr/local/lib/python3.10/dist-packages (from google-auth-oauthlib<2,>=0.5->tensorboard<2.16,>=2.15->tensorflow) (1.3.1)\n",
            "Requirement already satisfied: charset-normalizer<4,>=2 in /usr/local/lib/python3.10/dist-packages (from requests<3,>=2.21.0->tensorboard<2.16,>=2.15->tensorflow) (3.3.2)\n",
            "Requirement already satisfied: idna<4,>=2.5 in /usr/local/lib/python3.10/dist-packages (from requests<3,>=2.21.0->tensorboard<2.16,>=2.15->tensorflow) (3.6)\n",
            "Requirement already satisfied: urllib3<3,>=1.21.1 in /usr/local/lib/python3.10/dist-packages (from requests<3,>=2.21.0->tensorboard<2.16,>=2.15->tensorflow) (2.0.7)\n",
            "Requirement already satisfied: certifi>=2017.4.17 in /usr/local/lib/python3.10/dist-packages (from requests<3,>=2.21.0->tensorboard<2.16,>=2.15->tensorflow) (2023.11.17)\n",
            "Requirement already satisfied: MarkupSafe>=2.1.1 in /usr/local/lib/python3.10/dist-packages (from werkzeug>=1.0.1->tensorboard<2.16,>=2.15->tensorflow) (2.1.4)\n",
            "Requirement already satisfied: pyasn1<0.6.0,>=0.4.6 in /usr/local/lib/python3.10/dist-packages (from pyasn1-modules>=0.2.1->google-auth<3,>=1.6.3->tensorboard<2.16,>=2.15->tensorflow) (0.5.1)\n",
            "Requirement already satisfied: oauthlib>=3.0.0 in /usr/local/lib/python3.10/dist-packages (from requests-oauthlib>=0.7.0->google-auth-oauthlib<2,>=0.5->tensorboard<2.16,>=2.15->tensorflow) (3.2.2)\n"
          ]
        }
      ]
    },
    {
      "cell_type": "code",
      "source": [
        "import tensorflow as tf\n",
        "from tensorflow.keras.preprocessing import image\n",
        "from tensorflow.keras.applications.resnet50 import preprocess_input, decode_predictions\n",
        "import numpy as np\n",
        "from PIL import Image\n",
        "\n",
        "# Load the pre-trained ResNet50 model\n",
        "model = tf.keras.applications.ResNet50(weights='imagenet')"
      ],
      "metadata": {
        "colab": {
          "base_uri": "https://localhost:8080/"
        },
        "id": "fobdylKEHCsn",
        "outputId": "f3a70754-d109-4e23-9ed6-2edc7d40a208"
      },
      "execution_count": null,
      "outputs": [
        {
          "output_type": "stream",
          "name": "stdout",
          "text": [
            "Downloading data from https://storage.googleapis.com/tensorflow/keras-applications/resnet/resnet50_weights_tf_dim_ordering_tf_kernels.h5\n",
            "102967424/102967424 [==============================] - 1s 0us/step\n"
          ]
        }
      ]
    },
    {
      "cell_type": "markdown",
      "source": [
        "**DEFINE THE FUNCTION LAYERS**"
      ],
      "metadata": {
        "id": "xqkPwwT4CkrQ"
      }
    },
    {
      "cell_type": "code",
      "source": [
        "def lw(bottom_model, num_classes):\n",
        "    #creates the top or head of the model that will be placed ontop of the bottom layers\n",
        "\n",
        "    top_model = bottom_model.output\n",
        "    top_model = GlobalAveragePooling2D()(top_model)\n",
        "    top_model = Dense(1024,activation='relu')(top_model)\n",
        "    top_model = Dense(1024,activation='relu')(top_model)\n",
        "    top_model = Dense(512,activation='relu')(top_model)\n",
        "    top_model = Dense(num_classes,activation='softmax')(top_model)\n",
        "    return top_model"
      ],
      "metadata": {
        "id": "1cUQ8JUyagNy"
      },
      "execution_count": null,
      "outputs": []
    },
    {
      "cell_type": "code",
      "source": [
        "from keras.models import Sequential\n",
        "from keras.layers import Dense, Dropout, Activation, Flatten, GlobalAveragePooling2D\n",
        "from keras.layers import Conv2D, MaxPooling2D, ZeroPadding2D\n",
        "\n",
        "from keras.models import Model"
      ],
      "metadata": {
        "id": "TevjkKEGagau"
      },
      "execution_count": null,
      "outputs": []
    },
    {
      "cell_type": "code",
      "source": [
        "test_datagen = ImageDataGenerator(rescale=1./255) # check amount of images belonging to data\n",
        "test_generator = test_datagen.flow_from_directory(\n",
        "    '/content/brain_tumor_dataset',\n",
        "    target_size=(224, 224),\n",
        "    batch_size=32,\n",
        "    class_mode='binary',\n",
        "    shuffle=False\n",
        ")\n",
        "\n",
        "x_test, y_test = test_generator.next()\n",
        "\n"
      ],
      "metadata": {
        "id": "nOIWR_Q6I7qi",
        "outputId": "c0e07dc2-bdb5-4f23-d556-db2f1fe3ebd8",
        "colab": {
          "base_uri": "https://localhost:8080/"
        }
      },
      "execution_count": null,
      "outputs": [
        {
          "output_type": "stream",
          "name": "stdout",
          "text": [
            "Found 253 images belonging to 2 classes.\n"
          ]
        }
      ]
    },
    {
      "cell_type": "code",
      "source": [
        "print(y_test.shape)\n",
        "print(y_pred_classes.shape)"
      ],
      "metadata": {
        "id": "MH7dg99YJO_o",
        "outputId": "c5116b14-270a-4182-f93f-90c72c5975a3",
        "colab": {
          "base_uri": "https://localhost:8080/"
        }
      },
      "execution_count": null,
      "outputs": [
        {
          "output_type": "stream",
          "name": "stdout",
          "text": [
            "(32,)\n",
            "(32,)\n"
          ]
        }
      ]
    },
    {
      "cell_type": "code",
      "source": [
        "print(X_test.shape)\n",
        "print(y_test.shape)"
      ],
      "metadata": {
        "id": "XEbadP7mJxOI",
        "outputId": "144a63ec-7b5a-4d03-c55e-95afec389c1b",
        "colab": {
          "base_uri": "https://localhost:8080/"
        }
      },
      "execution_count": null,
      "outputs": [
        {
          "output_type": "stream",
          "name": "stdout",
          "text": [
            "(52, 224, 224, 3)\n",
            "(32,)\n"
          ]
        }
      ]
    },
    {
      "cell_type": "code",
      "source": [
        "print(model.output_shape[-1])"
      ],
      "metadata": {
        "id": "8k71NN5OJ2Cu",
        "outputId": "23460386-0797-47de-da77-94dc601ad69c",
        "colab": {
          "base_uri": "https://localhost:8080/"
        }
      },
      "execution_count": null,
      "outputs": [
        {
          "output_type": "stream",
          "name": "stdout",
          "text": [
            "2\n"
          ]
        }
      ]
    },
    {
      "cell_type": "markdown",
      "source": [
        "**EVALUATION METRICS AND MODEL PERFORMANCE**"
      ],
      "metadata": {
        "id": "C5ggwdMoC4kU"
      }
    },
    {
      "cell_type": "code",
      "source": [
        "num_classes = 2# for binary classification only 2 classes are considered\n",
        "\n",
        "FC_Head = lw(vgg, num_classes)\n",
        "\n",
        "model = Model(inputs = vgg.input, outputs = FC_Head)\n",
        "\n",
        "print(model.summary())"
      ],
      "metadata": {
        "colab": {
          "base_uri": "https://localhost:8080/"
        },
        "id": "hOCbsxXGbWMc",
        "outputId": "443e4a08-bd9f-4720-a2cf-c2309b372266"
      },
      "execution_count": null,
      "outputs": [
        {
          "output_type": "stream",
          "name": "stdout",
          "text": [
            "Model: \"model\"\n",
            "_________________________________________________________________\n",
            " Layer (type)                Output Shape              Param #   \n",
            "=================================================================\n",
            " input_2 (InputLayer)        [(None, 224, 224, 3)]     0         \n",
            "                                                                 \n",
            " block1_conv1 (Conv2D)       (None, 224, 224, 64)      1792      \n",
            "                                                                 \n",
            " block1_conv2 (Conv2D)       (None, 224, 224, 64)      36928     \n",
            "                                                                 \n",
            " block1_pool (MaxPooling2D)  (None, 112, 112, 64)      0         \n",
            "                                                                 \n",
            " block2_conv1 (Conv2D)       (None, 112, 112, 128)     73856     \n",
            "                                                                 \n",
            " block2_conv2 (Conv2D)       (None, 112, 112, 128)     147584    \n",
            "                                                                 \n",
            " block2_pool (MaxPooling2D)  (None, 56, 56, 128)       0         \n",
            "                                                                 \n",
            " block3_conv1 (Conv2D)       (None, 56, 56, 256)       295168    \n",
            "                                                                 \n",
            " block3_conv2 (Conv2D)       (None, 56, 56, 256)       590080    \n",
            "                                                                 \n",
            " block3_conv3 (Conv2D)       (None, 56, 56, 256)       590080    \n",
            "                                                                 \n",
            " block3_pool (MaxPooling2D)  (None, 28, 28, 256)       0         \n",
            "                                                                 \n",
            " block4_conv1 (Conv2D)       (None, 28, 28, 512)       1180160   \n",
            "                                                                 \n",
            " block4_conv2 (Conv2D)       (None, 28, 28, 512)       2359808   \n",
            "                                                                 \n",
            " block4_conv3 (Conv2D)       (None, 28, 28, 512)       2359808   \n",
            "                                                                 \n",
            " block4_pool (MaxPooling2D)  (None, 14, 14, 512)       0         \n",
            "                                                                 \n",
            " block5_conv1 (Conv2D)       (None, 14, 14, 512)       2359808   \n",
            "                                                                 \n",
            " block5_conv2 (Conv2D)       (None, 14, 14, 512)       2359808   \n",
            "                                                                 \n",
            " block5_conv3 (Conv2D)       (None, 14, 14, 512)       2359808   \n",
            "                                                                 \n",
            " block5_pool (MaxPooling2D)  (None, 7, 7, 512)         0         \n",
            "                                                                 \n",
            " global_average_pooling2d (  (None, 512)               0         \n",
            " GlobalAveragePooling2D)                                         \n",
            "                                                                 \n",
            " dense (Dense)               (None, 1024)              525312    \n",
            "                                                                 \n",
            " dense_1 (Dense)             (None, 1024)              1049600   \n",
            "                                                                 \n",
            " dense_2 (Dense)             (None, 512)               524800    \n",
            "                                                                 \n",
            " dense_3 (Dense)             (None, 2)                 1026      \n",
            "                                                                 \n",
            "=================================================================\n",
            "Total params: 16815426 (64.15 MB)\n",
            "Trainable params: 2100738 (8.01 MB)\n",
            "Non-trainable params: 14714688 (56.13 MB)\n",
            "_________________________________________________________________\n",
            "None\n"
          ]
        }
      ]
    },
    {
      "cell_type": "code",
      "source": [
        "from tensorflow.keras.preprocessing.image import ImageDataGenerator\n",
        "\n",
        "\n",
        "test_dir = '/content/brain_tumor_dataset'\n",
        "\n",
        "test_datagen = ImageDataGenerator(rescale=1./255)\n",
        "\n",
        "\n",
        "test_gen = test_datagen.flow_from_directory(\n",
        "    test_dir,\n",
        "    target_size=(224, 224),\n",
        "    batch_size=32,\n",
        "    class_mode='binary',\n",
        "    shuffle=False\n",
        ")\n"
      ],
      "metadata": {
        "colab": {
          "base_uri": "https://localhost:8080/"
        },
        "id": "wXoq1odsLMkR",
        "outputId": "70f35a06-7fc4-4bfe-ee8f-c1333297bbe3"
      },
      "execution_count": null,
      "outputs": [
        {
          "output_type": "stream",
          "name": "stdout",
          "text": [
            "Found 253 images belonging to 2 classes.\n"
          ]
        }
      ]
    },
    {
      "cell_type": "code",
      "source": [
        "from tensorflow.keras.models import Model\n",
        "model.compile(optimizer='adam', loss = 'categorical_crossentropy',metrics = ['accuracy'])\n",
        "history = model.fit(X_train,y_train,\n",
        "                    epochs=5,\n",
        "                    validation_data=(X_test,y_test),\n",
        "                    verbose = 1,\n",
        "                    initial_epoch=0)\n"
      ],
      "metadata": {
        "colab": {
          "base_uri": "https://localhost:8080/"
        },
        "id": "ACfSud5Tb9wj",
        "outputId": "cb25cdfc-9b74-409e-8202-8d9c4b50d7fa"
      },
      "execution_count": null,
      "outputs": [
        {
          "output_type": "stream",
          "name": "stdout",
          "text": [
            "Epoch 1/5\n",
            "6/6 [==============================] - 186s 33s/step - loss: 4.1451 - accuracy: 0.6154 - val_loss: 1.7542 - val_accuracy: 0.5357\n",
            "Epoch 2/5\n",
            "6/6 [==============================] - 180s 32s/step - loss: 0.6730 - accuracy: 0.7456 - val_loss: 0.2447 - val_accuracy: 0.9048\n",
            "Epoch 3/5\n",
            "6/6 [==============================] - 178s 32s/step - loss: 0.3820 - accuracy: 0.8343 - val_loss: 0.2501 - val_accuracy: 0.9167\n",
            "Epoch 4/5\n",
            "6/6 [==============================] - 178s 32s/step - loss: 0.1699 - accuracy: 0.9467 - val_loss: 0.2409 - val_accuracy: 0.9167\n",
            "Epoch 5/5\n",
            "6/6 [==============================] - 178s 32s/step - loss: 0.1271 - accuracy: 0.9586 - val_loss: 0.1632 - val_accuracy: 0.8929\n"
          ]
        }
      ]
    },
    {
      "cell_type": "code",
      "source": [
        "model.summary()"
      ],
      "metadata": {
        "id": "F-KjFMs1HV6b",
        "outputId": "8f5a60af-cbdc-421e-809c-84d525432bf9",
        "colab": {
          "base_uri": "https://localhost:8080/"
        }
      },
      "execution_count": null,
      "outputs": [
        {
          "output_type": "stream",
          "name": "stdout",
          "text": [
            "Model: \"sequential_7\"\n",
            "_________________________________________________________________\n",
            " Layer (type)                Output Shape              Param #   \n",
            "=================================================================\n",
            " conv2d_10 (Conv2D)          (None, 222, 222, 32)      896       \n",
            "                                                                 \n",
            " max_pooling2d_8 (MaxPoolin  (None, 111, 111, 32)      0         \n",
            " g2D)                                                            \n",
            "                                                                 \n",
            " flatten_5 (Flatten)         (None, 394272)            0         \n",
            "                                                                 \n",
            " dense_12 (Dense)            (None, 64)                25233472  \n",
            "                                                                 \n",
            " dense_13 (Dense)            (None, 2)                 130       \n",
            "                                                                 \n",
            "=================================================================\n",
            "Total params: 25234498 (96.26 MB)\n",
            "Trainable params: 25234498 (96.26 MB)\n",
            "Non-trainable params: 0 (0.00 Byte)\n",
            "_________________________________________________________________\n"
          ]
        }
      ]
    },
    {
      "cell_type": "code",
      "source": [
        "import tensorflow as tf\n",
        "from sklearn.metrics import accuracy_score, precision_score, recall_score, f1_score\n",
        "import numpy as np\n",
        "\n",
        "# Assuming y_train and y_test are not one-hot encoded\n",
        "# One-hot encode the labels\n",
        "y_train_onehot = tf.keras.utils.to_categorical(y_train, num_classes=2)\n",
        "y_test_onehot = tf.keras.utils.to_categorical(y_test, num_classes=2)\n",
        "\n",
        "#  simple CNN model\n",
        "model = tf.keras.Sequential([\n",
        "    tf.keras.layers.Conv2D(32, (3, 3), activation='relu', input_shape=(224, 224, 3)),\n",
        "    tf.keras.layers.MaxPooling2D((2, 2)),\n",
        "    tf.keras.layers.Flatten(),\n",
        "    tf.keras.layers.Dense(64, activation='relu'),\n",
        "    tf.keras.layers.Dense(2, activation='softmax')\n",
        "])\n",
        "\n",
        "\n",
        "model.compile(optimizer='adam', loss='categorical_crossentropy', metrics=['accuracy'])\n",
        "\n",
        "# Train the model\n",
        "model.fit(X_train, y_train_onehot, epochs=5, batch_size=32, validation_split=0.1)\n",
        "\n",
        "# Evaluate the model on the test set\n",
        "y_pred = model.predict(X_test)\n",
        "y_pred_classes = np.argmax(y_pred, axis=1)\n",
        "\n",
        "# Ensure y_test_onehot and y_pred_classes have the same length\n",
        "min_length = min(len(y_test_onehot), len(y_pred_classes))\n",
        "y_test_onehot = y_test_onehot[:min_length]\n",
        "y_pred_classes = y_pred_classes[:min_length]\n",
        "\n",
        "# Calculate evaluation metrics\n",
        "accuracy = accuracy_score(np.argmax(y_test_onehot, axis=1), y_pred_classes)\n",
        "precision = precision_score(np.argmax(y_test_onehot, axis=1), y_pred_classes)\n",
        "recall = recall_score(np.argmax(y_test_onehot, axis=1), y_pred_classes)\n",
        "f1 = f1_score(np.argmax(y_test_onehot, axis=1), y_pred_classes)\n",
        "\n",
        "# Print evaluation metrics\n",
        "print(\"Accuracy: {:.2f}\".format(accuracy))\n",
        "print(\"Precision: {:.2f}\".format(precision))\n",
        "print(\"Recall: {:.2f}\".format(recall))\n",
        "print(\"F1 Score: {:.2f}\".format(f1))\n"
      ],
      "metadata": {
        "id": "mYqBAujlHjEb",
        "outputId": "3ae1b4d0-e849-4693-bd4a-809e9cedbff6",
        "colab": {
          "base_uri": "https://localhost:8080/"
        }
      },
      "execution_count": null,
      "outputs": [
        {
          "output_type": "stream",
          "name": "stdout",
          "text": [
            "Epoch 1/5\n",
            "3/3 [==============================] - 8s 2s/step - loss: 0.3058 - accuracy: 0.9457 - val_loss: 0.0000e+00 - val_accuracy: 1.0000\n",
            "Epoch 2/5\n",
            "3/3 [==============================] - 4s 1s/step - loss: 0.0000e+00 - accuracy: 1.0000 - val_loss: 0.0000e+00 - val_accuracy: 1.0000\n",
            "Epoch 3/5\n",
            "3/3 [==============================] - 4s 1s/step - loss: 0.0000e+00 - accuracy: 1.0000 - val_loss: 0.0000e+00 - val_accuracy: 1.0000\n",
            "Epoch 4/5\n",
            "3/3 [==============================] - 5s 2s/step - loss: 0.0000e+00 - accuracy: 1.0000 - val_loss: 0.0000e+00 - val_accuracy: 1.0000\n",
            "Epoch 5/5\n",
            "3/3 [==============================] - 4s 1s/step - loss: 0.0000e+00 - accuracy: 1.0000 - val_loss: 0.0000e+00 - val_accuracy: 1.0000\n",
            "2/2 [==============================] - 1s 223ms/step\n",
            "Accuracy: 1.00\n",
            "Precision: 0.00\n",
            "Recall: 0.00\n",
            "F1 Score: 0.00\n"
          ]
        },
        {
          "output_type": "stream",
          "name": "stderr",
          "text": [
            "/usr/local/lib/python3.10/dist-packages/sklearn/metrics/_classification.py:1344: UndefinedMetricWarning: Precision is ill-defined and being set to 0.0 due to no predicted samples. Use `zero_division` parameter to control this behavior.\n",
            "  _warn_prf(average, modifier, msg_start, len(result))\n",
            "/usr/local/lib/python3.10/dist-packages/sklearn/metrics/_classification.py:1344: UndefinedMetricWarning: Recall is ill-defined and being set to 0.0 due to no true samples. Use `zero_division` parameter to control this behavior.\n",
            "  _warn_prf(average, modifier, msg_start, len(result))\n",
            "/usr/local/lib/python3.10/dist-packages/sklearn/metrics/_classification.py:1609: UndefinedMetricWarning: F-score is ill-defined and being set to 0.0 due to no true nor predicted samples. Use `zero_division` parameter to control this behavior.\n",
            "  _warn_prf(average, \"true nor predicted\", \"F-score is\", len(true_sum))\n"
          ]
        }
      ]
    },
    {
      "cell_type": "markdown",
      "source": [
        "**SEQUENTIAL MODEL PARAMETERS**"
      ],
      "metadata": {
        "id": "7GYZBcOsK8RL"
      }
    },
    {
      "cell_type": "code",
      "source": [
        "model = Sequential()\n",
        "\n",
        "model.add(Conv2D(32, kernel_size=(2, 2), input_shape=(128, 128, 3), padding = 'Same'))\n",
        "model.add(Conv2D(32, kernel_size=(2, 2),  activation ='relu', padding = 'Same'))\n",
        "\n",
        "\n",
        "model.add(BatchNormalization())\n",
        "model.add(MaxPooling2D(pool_size=(2, 2)))\n",
        "model.add(Dropout(0.25))\n",
        "\n",
        "model.add(Conv2D(64, kernel_size = (2,2), activation ='relu', padding = 'Same'))\n",
        "model.add(Conv2D(64, kernel_size = (2,2), activation ='relu', padding = 'Same'))\n",
        "\n",
        "model.add(BatchNormalization())\n",
        "model.add(MaxPooling2D(pool_size=(2,2), strides=(2,2)))\n",
        "model.add(Dropout(0.25))\n",
        "\n",
        "model.add(Flatten())\n",
        "\n",
        "model.add(Dense(512, activation='relu'))\n",
        "model.add(Dropout(0.5))\n",
        "model.add(Dense(2, activation='softmax'))\n",
        "# model.compile(loss = \"categorical_crossentropy\", optimizer='Adamax')\n",
        "model.compile(loss=\"categorical_crossentropy\", optimizer=\"Adamax\", metrics=[\"accuracy\"])\n",
        "\n",
        "print(model.summary())"
      ],
      "metadata": {
        "id": "_JmHpO1zH9bQ",
        "outputId": "fb73b1cb-d4f9-4ded-e2be-cd98ffbcacbd",
        "colab": {
          "base_uri": "https://localhost:8080/"
        }
      },
      "execution_count": null,
      "outputs": [
        {
          "output_type": "stream",
          "name": "stdout",
          "text": [
            "Model: \"sequential_9\"\n",
            "_________________________________________________________________\n",
            " Layer (type)                Output Shape              Param #   \n",
            "=================================================================\n",
            " conv2d_12 (Conv2D)          (None, 128, 128, 32)      416       \n",
            "                                                                 \n",
            " conv2d_13 (Conv2D)          (None, 128, 128, 32)      4128      \n",
            "                                                                 \n",
            " batch_normalization_2 (Bat  (None, 128, 128, 32)      128       \n",
            " chNormalization)                                                \n",
            "                                                                 \n",
            " max_pooling2d_10 (MaxPooli  (None, 64, 64, 32)        0         \n",
            " ng2D)                                                           \n",
            "                                                                 \n",
            " dropout_4 (Dropout)         (None, 64, 64, 32)        0         \n",
            "                                                                 \n",
            " conv2d_14 (Conv2D)          (None, 64, 64, 64)        8256      \n",
            "                                                                 \n",
            " conv2d_15 (Conv2D)          (None, 64, 64, 64)        16448     \n",
            "                                                                 \n",
            " batch_normalization_3 (Bat  (None, 64, 64, 64)        256       \n",
            " chNormalization)                                                \n",
            "                                                                 \n",
            " max_pooling2d_11 (MaxPooli  (None, 32, 32, 64)        0         \n",
            " ng2D)                                                           \n",
            "                                                                 \n",
            " dropout_5 (Dropout)         (None, 32, 32, 64)        0         \n",
            "                                                                 \n",
            " flatten_7 (Flatten)         (None, 65536)             0         \n",
            "                                                                 \n",
            " dense_16 (Dense)            (None, 512)               33554944  \n",
            "                                                                 \n",
            " dropout_6 (Dropout)         (None, 512)               0         \n",
            "                                                                 \n",
            " dense_17 (Dense)            (None, 2)                 1026      \n",
            "                                                                 \n",
            "=================================================================\n",
            "Total params: 33585602 (128.12 MB)\n",
            "Trainable params: 33585410 (128.12 MB)\n",
            "Non-trainable params: 192 (768.00 Byte)\n",
            "_________________________________________________________________\n",
            "None\n"
          ]
        }
      ]
    },
    {
      "cell_type": "code",
      "source": [
        "def plot_metrics(history):\n",
        "\n",
        "    train_loss = history['loss']\n",
        "    val_loss = history['val_loss']\n",
        "    train_acc = history['accuracy']\n",
        "    val_acc = history['val_accuracy']\n",
        "\n",
        "    # Loss\n",
        "    plt.figure()\n",
        "    plt.plot(train_loss, label='Training Loss')\n",
        "    plt.plot(val_loss, label='Validation Loss')\n",
        "    plt.title('Loss')\n",
        "    plt.legend()\n",
        "    plt.show()\n",
        "\n",
        "    # Accuracy\n",
        "    plt.figure()\n",
        "    plt.plot(train_acc, label='Training Accuracy')\n",
        "    plt.plot(val_acc, label='Validation Accuracy')\n",
        "    plt.title('Accuracy')\n",
        "    plt.legend()\n",
        "    plt.show()"
      ],
      "metadata": {
        "id": "MDbylM2fIREY"
      },
      "execution_count": null,
      "outputs": []
    },
    {
      "cell_type": "code",
      "source": [
        "import matplotlib.pyplot as plt\n",
        "%matplotlib inline\n",
        "acc = history.history['accuracy']\n",
        "val_acc = history.history['val_accuracy']\n",
        "loss = history.history['loss']\n",
        "val_loss = history.history['val_loss']\n",
        "\n",
        "epochs = range(len(acc))"
      ],
      "metadata": {
        "id": "f0ra_UZdcHsH"
      },
      "execution_count": null,
      "outputs": []
    },
    {
      "cell_type": "markdown",
      "source": [
        "**VISUALISE THE TRAINING AND VALIDATION ACCURACY**"
      ],
      "metadata": {
        "id": "ekmr8y5HDD7X"
      }
    },
    {
      "cell_type": "code",
      "source": [
        "plt.plot(epochs, acc, 'r', label='Training accuracy')\n",
        "plt.plot(epochs, val_acc, 'b', label='Validation accuracy')\n",
        "plt.title('Training and validation accuracy')\n",
        "plt.legend(loc=0)\n",
        "plt.figure()\n",
        "\n",
        "plt.show()# plot the training and validation accuracy graph"
      ],
      "metadata": {
        "colab": {
          "base_uri": "https://localhost:8080/",
          "height": 469
        },
        "id": "BKni3vf-cH0R",
        "outputId": "1f92facf-a5b6-4458-cbd5-4889f0a65dbb"
      },
      "execution_count": null,
      "outputs": [
        {
          "output_type": "display_data",
          "data": {
            "text/plain": [
              "<Figure size 640x480 with 1 Axes>"
            ],
            "image/png": "[encoded data removed]"
          },
          "metadata": {}
        },
        {
          "output_type": "display_data",
          "data": {
            "text/plain": [
              "<Figure size 640x480 with 0 Axes>"
            ]
          },
          "metadata": {}
        }
      ]
    },
    {
      "cell_type": "code",
      "source": [
        "feature_train = model.predict(X_train)\n",
        "feature_test = model.predict(X_test)"
      ],
      "metadata": {
        "colab": {
          "base_uri": "https://localhost:8080/"
        },
        "id": "vIdpH4wOW_3P",
        "outputId": "71cb716a-4bce-47af-965e-c38b244b5e33"
      },
      "execution_count": null,
      "outputs": [
        {
          "output_type": "stream",
          "name": "stdout",
          "text": [
            "4/4 [==============================] - 80s 18s/step\n",
            "2/2 [==============================] - 46s 15s/step\n"
          ]
        }
      ]
    },
    {
      "cell_type": "code",
      "source": [
        "# Flatten extracted features\n",
        "flat_train = feature_train.reshape(feature_train.shape[0], -1)\n",
        "flat_test = feature_test.reshape(feature_test.shape[0], -1)"
      ],
      "metadata": {
        "id": "96CiKPIUW4xJ"
      },
      "execution_count": null,
      "outputs": []
    },
    {
      "cell_type": "code",
      "source": [
        "print(flat_train.shape, flat_test.shape)"
      ],
      "metadata": {
        "colab": {
          "base_uri": "https://localhost:8080/"
        },
        "id": "xyLCqk1ZW40I",
        "outputId": "40642d40-d116-44da-8fd1-b4a24c9f7070"
      },
      "execution_count": null,
      "outputs": [
        {
          "output_type": "stream",
          "name": "stdout",
          "text": [
            "(103, 1000) (52, 1000)\n"
          ]
        }
      ]
    },
    {
      "cell_type": "code",
      "source": [
        "y_train_flattened=y_train.ravel()\n",
        "y_test_flattened=y_test.ravel()"
      ],
      "metadata": {
        "id": "pVuN36UXW43J"
      },
      "execution_count": null,
      "outputs": []
    }
  ]
}